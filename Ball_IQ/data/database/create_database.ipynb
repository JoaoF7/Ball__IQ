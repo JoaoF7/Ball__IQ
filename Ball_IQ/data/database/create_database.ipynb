{
 "cells": [
  {
   "cell_type": "code",
   "execution_count": 1,
   "metadata": {},
   "outputs": [],
   "source": [
    "import sqlite3\n",
    "\n",
    "# Create the database\n",
    "conn = sqlite3.connect('balliq.db')\n",
    "c = conn.cursor()\n",
    "\n",
    "# Create the Users table\n",
    "c.execute('''CREATE TABLE IF NOT EXISTS users (\n",
    "    user_id INTEGER PRIMARY KEY AUTOINCREMENT,\n",
    "    username TEXT NOT NULL,\n",
    "    email TEXT NOT NULL UNIQUE,\n",
    "    password TEXT NOT NULL,\n",
    "    team_name TEXT NOT NULL,\n",
    "    budget REAL NOT NULL CHECK(budget >= 0 AND budget <= 100),\n",
    "    points INTEGER DEFAULT 0 CHECK(points >= 0)\n",
    ")''')\n",
    "\n",
    "# Create the Players Fantasy table\n",
    "c.execute('''CREATE TABLE IF NOT EXISTS players_fantasy (\n",
    "    player_id INTEGER PRIMARY KEY AUTOINCREMENT,\n",
    "    name TEXT NOT NULL,\n",
    "    team TEXT NOT NULL,\n",
    "    position TEXT NOT NULL CHECK(position IN ('Goalkeeper', 'Defender', 'Midfielder', 'Forward')),\n",
    "    price REAL NOT NULL CHECK(price >= 0),\n",
    "    price_evolution REAL DEFAULT 0,\n",
    "    points_per_game REAL DEFAULT 0,\n",
    "    form_rank INTEGER CHECK(form_rank >= 0),\n",
    "    total_fantasy_points INTEGER DEFAULT 0,\n",
    "    next_week INTEGER DEFAULT 0 CHECK(next_week >= 0),\n",
    "    expected_points_next_game REAL DEFAULT 0\n",
    ")''')\n",
    "\n",
    "# Create the Player Stats table\n",
    "c.execute('''CREATE TABLE IF NOT EXISTS player_stats (\n",
    "    player_id INTEGER PRIMARY KEY,\n",
    "    goals INTEGER DEFAULT 0 CHECK(goals >= 0),\n",
    "    assists INTEGER DEFAULT 0 CHECK(assists >= 0),\n",
    "    yellow_cards INTEGER DEFAULT 0 CHECK(yellow_cards >= 0),\n",
    "    red_cards INTEGER DEFAULT 0 CHECK(red_cards >= 0),\n",
    "    penalties_defended INTEGER DEFAULT 0 CHECK(penalties_defended >= 0),\n",
    "    own_goals INTEGER DEFAULT 0 CHECK(own_goals >= 0),\n",
    "    clean_sheets INTEGER DEFAULT 0 CHECK(clean_sheets >= 0),\n",
    "    saves INTEGER DEFAULT 0 CHECK(saves >= 0),\n",
    "    starts INTEGER DEFAULT 0 CHECK(starts >= 0),\n",
    "    penalties_missed INTEGER DEFAULT 0 CHECK(penalties_missed >= 0),\n",
    "    FOREIGN KEY (player_id) REFERENCES players_fantasy(player_id) ON DELETE CASCADE\n",
    ")''')\n",
    "\n",
    "# Create the User Team table\n",
    "c.execute('''CREATE TABLE IF NOT EXISTS user_team (\n",
    "    user_id INTEGER NOT NULL,\n",
    "    player_id INTEGER NOT NULL,\n",
    "    starting_eleven INTEGER DEFAULT 0 CHECK(starting_eleven IN (0, 1)),\n",
    "    on_team INTEGER DEFAULT 0 CHECK(on_team IN (0, 1)),\n",
    "    FOREIGN KEY (user_id) REFERENCES users(user_id) ON DELETE CASCADE,\n",
    "    FOREIGN KEY (player_id) REFERENCES players_fantasy(player_id) ON DELETE CASCADE,\n",
    "    PRIMARY KEY (user_id, player_id)\n",
    ")''')\n",
    "\n",
    "# Create the Fixtures table\n",
    "c.execute('''CREATE TABLE IF NOT EXISTS fixtures (\n",
    "    week INTEGER NOT NULL,\n",
    "    date TEXT NOT NULL,\n",
    "    home_team TEXT NOT NULL,\n",
    "    away_team TEXT NOT NULL,\n",
    "    PRIMARY KEY (week, home_team, away_team)\n",
    ")''')\n",
    "\n",
    "# Adding indexes for better performance\n",
    "c.execute('''CREATE INDEX IF NOT EXISTS idx_user_team_user_id ON user_team(user_id)''')\n",
    "c.execute('''CREATE INDEX IF NOT EXISTS idx_user_team_player_id ON user_team(player_id)''')\n",
    "c.execute('''CREATE INDEX IF NOT EXISTS idx_player_stats_player_id ON player_stats(player_id)''')\n",
    "c.execute('''CREATE INDEX IF NOT EXISTS idx_players_fantasy_next_week ON players_fantasy(next_week)''')\n",
    "c.execute('''CREATE INDEX IF NOT EXISTS idx_fixtures_week ON fixtures(week)''')\n",
    "\n",
    "# Commit changes and close the connection\n",
    "conn.commit()\n",
    "conn.close()\n"
   ]
  },
  {
   "cell_type": "code",
   "execution_count": 2,
   "metadata": {},
   "outputs": [],
   "source": [
    "from langchain.prompts import FewShotPromptTemplate, PromptTemplate\n",
    "from langchain_experimental.tabular_synthetic_data.openai import (\n",
    "    OPENAI_TEMPLATE,\n",
    "    create_openai_data_generator,\n",
    ")\n",
    "from langchain_experimental.tabular_synthetic_data.prompts import (\n",
    "    SYNTHETIC_FEW_SHOT_PREFIX,\n",
    "    SYNTHETIC_FEW_SHOT_SUFFIX,\n",
    ")\n",
    "from langchain_openai import ChatOpenAI\n",
    "import sqlite3\n",
    "import pandas as pd\n",
    "from pydantic import BaseModel, Field, model_validator, ValidationError\n",
    "from typing import Optional\n",
    "from datetime import date\n",
    "import numpy as np\n"
   ]
  },
  {
   "cell_type": "code",
   "execution_count": 101,
   "metadata": {},
   "outputs": [],
   "source": [
    "from dotenv import load_dotenv\n",
    "import os\n",
    "\n",
    "# Load the OpenAI API key from the .env file\n",
    "load_dotenv()\n",
    "api_key = os.getenv(\"api_key\")\n",
    "if api_key is None:\n",
    "    raise ValueError(\"The api_key environment variable is not set.\")"
   ]
  },
  {
   "cell_type": "markdown",
   "metadata": {},
   "source": [
    "# Generate synthetic data for User"
   ]
  },
  {
   "cell_type": "code",
   "execution_count": 3,
   "metadata": {},
   "outputs": [],
   "source": [
    "# Users Table\n",
    "class User(BaseModel):\n",
    "    username: str\n",
    "    email: str\n",
    "    password: str\n",
    "    team_name: str\n",
    "    budget: float = Field(..., ge=0, le=100.0)\n",
    "    points: int = Field(0, ge=0) "
   ]
  },
  {
   "cell_type": "code",
   "execution_count": 103,
   "metadata": {},
   "outputs": [],
   "source": [
    "examples = [\n",
    "    {\n",
    "        \"example\": \"\"\"username: rmaia44, email: rmaia2003@gmail.com,\n",
    "        password: maiar04, team_name: SadioMane, budget: 100.0, points: 0\"\"\"\n",
    "    },\n",
    "    {\n",
    "        \"example\": \"\"\"username: mmendes04, email: miguelmendes04@gmail.com,\n",
    "        password: mmendes-04, team_name: Hater do Amorim, budget: 100.0, points: 0\"\"\"\n",
    "    },\n",
    "    {\n",
    "        \"example\": \"\"\"username: jocajoca77, email: jferreira@gmail.com,\n",
    "        password: joaof005, team_name: Joca, budget: 100.0, points: 0\"\"\"\n",
    "    }\n",
    "]"
   ]
  },
  {
   "cell_type": "code",
   "execution_count": 6,
   "metadata": {},
   "outputs": [],
   "source": [
    "OPENAI_TEMPLATE = PromptTemplate(input_variables=[\"example\"], template=\"{example}\")\n",
    "\n",
    "prompt_template = FewShotPromptTemplate(\n",
    "    prefix=SYNTHETIC_FEW_SHOT_PREFIX,\n",
    "    examples=examples,\n",
    "    suffix=SYNTHETIC_FEW_SHOT_SUFFIX,\n",
    "    input_variables=[\"subject\", \"extra\"],\n",
    "    example_prompt=OPENAI_TEMPLATE,\n",
    ")"
   ]
  },
  {
   "cell_type": "code",
   "execution_count": 7,
   "metadata": {},
   "outputs": [],
   "source": [
    "llm = ChatOpenAI(api_key=api_key, model=\"gpt-3.5-turbo\", temperature=1)"
   ]
  },
  {
   "cell_type": "code",
   "execution_count": 8,
   "metadata": {},
   "outputs": [],
   "source": [
    "synthetic_data_generator = create_openai_data_generator(\n",
    "    output_schema=User,\n",
    "    llm=llm,\n",
    "    prompt=prompt_template,\n",
    ")"
   ]
  },
  {
   "cell_type": "code",
   "execution_count": 9,
   "metadata": {},
   "outputs": [],
   "source": [
    "synthetic_results = synthetic_data_generator.generate(\n",
    "    subject=\"users\",\n",
    "    extra = \"Don't repeat anything. Try to be as creative as possible\",\n",
    "    runs=10,\n",
    ")"
   ]
  },
  {
   "cell_type": "code",
   "execution_count": 7,
   "metadata": {},
   "outputs": [
    {
     "data": {
      "text/plain": [
       "[User(username='paulinha92', email='paulinhacosta92@yahoo.com', password='costap21', team_name='RonaldoForever', budget=100.0, points=0),\n",
       " User(username='lucarvalho01', email='lucascarvalho01@hotmail.com', password='carvalho123', team_name='TeamCarvalho', budget=95.0, points=10),\n",
       " User(username='sydneyroyals', email='sydneyroyals22@gmail.com', password='royal2022', team_name='Sydney Royals', budget=98.5, points=5),\n",
       " User(username='marinaTheExplorer', email='marinaexplorer85@gmail.com', password='oceans1234', team_name='OceanAdventures', budget=80.0, points=15),\n",
       " User(username='adventureLover77', email='adventure77lover@yahoo.com', password='explore2022', team_name='Adventure Seekers', budget=82.0, points=8),\n",
       " User(username='wildernessWanderer', email='wildwanderer@gmail.com', password='wild2022', team_name='Wilderness Wanderers', budget=90.5, points=10),\n",
       " User(username='explorerExtraordinaire', email='extraordinaireexplorer@gmail.com', password='amazingexplore123', team_name='Fantastic Explorers', budget=85.0, points=12),\n",
       " User(username='oceanAdventurer23', email='adventureocean23@gmail.com', password='deepsea2023', team_name='Ocean Voyagers', budget=78.3, points=9),\n",
       " User(username='mountainTrailBlazer', email='mountainblazer22@gmail.com', password='hikingtrails2022', team_name='Summit Seekers', budget=88.7, points=15),\n",
       " User(username='techSavvyGuru', email='gurutechmaster@gmail.com', password='codeNinja2023', team_name='Digital Innovators', budget=92.5, points=18)]"
      ]
     },
     "execution_count": 7,
     "metadata": {},
     "output_type": "execute_result"
    }
   ],
   "source": [
    "synthetic_results"
   ]
  },
  {
   "cell_type": "code",
   "execution_count": 4,
   "metadata": {},
   "outputs": [],
   "source": [
    "# Just copy and pasted the print of the previous cell to not have to generate new data again\n",
    "synthetic_results = [User(username='paulinha92', email='paulinhacosta92@yahoo.com', password='costap21', team_name='RonaldoForever', budget=100.0, points=0),\n",
    " User(username='lucarvalho01', email='lucascarvalho01@hotmail.com', password='carvalho123', team_name='TeamCarvalho', budget=95.0, points=10),\n",
    " User(username='sydneyroyals', email='sydneyroyals22@gmail.com', password='royal2022', team_name='Sydney Royals', budget=98.5, points=5),\n",
    " User(username='marinaTheExplorer', email='marinaexplorer85@gmail.com', password='oceans1234', team_name='OceanAdventures', budget=80.0, points=15),\n",
    " User(username='adventureLover77', email='adventure77lover@yahoo.com', password='explore2022', team_name='Adventure Seekers', budget=82.0, points=8),\n",
    " User(username='wildernessWanderer', email='wildwanderer@gmail.com', password='wild2022', team_name='Wilderness Wanderers', budget=90.5, points=10),\n",
    " User(username='explorerExtraordinaire', email='extraordinaireexplorer@gmail.com', password='amazingexplore123', team_name='Fantastic Explorers', budget=85.0, points=12),\n",
    " User(username='oceanAdventurer23', email='adventureocean23@gmail.com', password='deepsea2023', team_name='Ocean Voyagers', budget=78.3, points=9),\n",
    " User(username='mountainTrailBlazer', email='mountainblazer22@gmail.com', password='hikingtrails2022', team_name='Summit Seekers', budget=88.7, points=15),\n",
    " User(username='techSavvyGuru', email='gurutechmaster@gmail.com', password='codeNinja2023', team_name='Digital Innovators', budget=92.5, points=18)]"
   ]
  },
  {
   "cell_type": "markdown",
   "metadata": {},
   "source": [
    "### Upload this new data to the database"
   ]
  },
  {
   "cell_type": "code",
   "execution_count": 5,
   "metadata": {},
   "outputs": [],
   "source": [
    "conn = sqlite3.connect('balliq.db', check_same_thread=False)\n",
    "c = conn.cursor()\n",
    "\n",
    "for i, result in enumerate(synthetic_results):\n",
    "    c.execute(\"INSERT INTO users (user_id, username, email, password, team_name, budget, points) VALUES (?, ?, ?, ?, ?, ?, ?)\",\n",
    "            (i, result.username, result.email, result.password, result.team_name, result.budget, result.points))\n",
    "\n",
    "conn.commit()\n",
    "conn.close()"
   ]
  },
  {
   "cell_type": "code",
   "execution_count": 6,
   "metadata": {},
   "outputs": [],
   "source": [
    "conn = sqlite3.connect('balliq.db', check_same_thread=False)\n",
    "c = conn.cursor()\n",
    "\n",
    "\n",
    "c.execute(\"INSERT INTO users (user_id, username, email, password, team_name, budget, points) VALUES (?, ?, ?, ?, ?, ?, ?)\",\n",
    "         (11, \"Goat\", \"goat123@gmail.com\", \"goatedcr7\", \"Ronaldo da Fantasy\", 50, 100))\n",
    "\n",
    "c.execute(\"INSERT INTO users (user_id, username, email, password, team_name, budget, points) VALUES (?, ?, ?, ?, ?, ?, ?)\",\n",
    "         (10000, \"Test\", \"test@gmail.com\", \"test\", \"Test\", 100, 0))\n",
    "\n",
    "conn.commit()\n",
    "conn.close()"
   ]
  },
  {
   "cell_type": "markdown",
   "metadata": {},
   "source": [
    "# Upload data to the database from a csv"
   ]
  },
  {
   "cell_type": "code",
   "execution_count": 7,
   "metadata": {},
   "outputs": [],
   "source": [
    "teams = {\n",
    "    \"Arsenal\": \"Arsenal\",\n",
    "    \"Aston Villa\": \"Aston Villa\",\n",
    "    \"Bournemouth\": \"Bournemouth\",\n",
    "    \"Brentford\": \"Brentford\",\n",
    "    \"Brighton\": \"Brighton\",\n",
    "    \"Chelsea\": \"Chelsea\",\n",
    "    \"Crystal Palace\": \"Crystal Palace\",\n",
    "    \"Everton\": \"Everton\",\n",
    "    \"Fulham\": \"Fulham\",\n",
    "    \"Ipswich\": \"Ipswich Town\",\n",
    "    \"Leicester\": \"Leicester City\",\n",
    "    \"Liverpool\": \"Liverpool\",\n",
    "    \"Man City\": \"Manchester City\",\n",
    "    \"Man Utd\": \"Manchester United\",\n",
    "    \"Newcastle\": \"Newcastle United\",\n",
    "    \"Nott'm Forest\": \"Nottingham Forest\",\n",
    "    \"Southampton\": \"Southampton\",\n",
    "    \"Spurs\": \"Tottenham\",\n",
    "    \"West Ham\": \"West Ham\",\n",
    "    \"Wolves\": \"Wolves\"\n",
    "}\n"
   ]
  },
  {
   "cell_type": "code",
   "execution_count": 8,
   "metadata": {},
   "outputs": [
    {
     "name": "stdout",
     "output_type": "stream",
     "text": [
      "['Midfielder' 'Forward' 'Defender' 'Goalkeeper']\n"
     ]
    }
   ],
   "source": [
    "fantasy_data = pd.read_csv(\"players.csv\")\n",
    "fantasy_data[\"team\"] = fantasy_data[\"team\"].map(teams)\n",
    "fantasy_data['now_cost'] = fantasy_data['now_cost']/10\n",
    "fantasy_data['cost_change_start'] = fantasy_data['cost_change_start']/10\n",
    "def map_position(position):\n",
    "    mapping = {\n",
    "        'MID': 'Midfielder',\n",
    "        'DEF': 'Defender',\n",
    "        'FWD': 'Forward',\n",
    "        'GKP': 'Goalkeeper'\n",
    "    }\n",
    "    return mapping.get(position, position) \n",
    "fantasy_data[\"position\"] = fantasy_data['position'].apply(lambda x: map_position(x))\n",
    "print(fantasy_data[\"position\"].unique())\n",
    "# Connect to the database\n",
    "conn = sqlite3.connect('balliq.db')\n",
    "c = conn.cursor()\n",
    "\n",
    "\n",
    "\n",
    "for index, row in fantasy_data.iterrows():\n",
    "    c.execute(\"\"\"\n",
    "        INSERT INTO players_fantasy\n",
    "        (player_id, name, team, position, price, price_evolution, points_per_game, form_rank, total_fantasy_points, next_week, expected_points_next_game)\n",
    "        VALUES (?, ?, ?, ?, ?, ?, ?, ?, ?, ?, ?)\"\"\",\n",
    "        (row[\"id\"],\n",
    "        row['name'],\n",
    "        row['team'],\n",
    "        row['position'],\n",
    "        row['now_cost'],\n",
    "        row['cost_change_start'],\n",
    "        row[\"points_per_game\"],\n",
    "        row[\"form_rank_type\"],\n",
    "        row['total_points'],\n",
    "        20,\n",
    "        row['ep_next']\n",
    "    ))\n",
    "    \n",
    "    c.execute(\"\"\"\n",
    "        INSERT INTO player_stats\n",
    "        (player_id, goals, assists, yellow_cards, red_cards, penalties_defended, own_goals, clean_sheets, saves, starts, penalties_missed)\n",
    "        VALUES (?, ?, ?, ?, ?, ?, ?, ?, ?, ?, ?)\"\"\",\n",
    "        (row[\"id\"],\n",
    "        row['goals_scored'],\n",
    "        row['assists'],\n",
    "        row['yellow_cards'],\n",
    "        row['red_cards'],\n",
    "        row[\"penalties_saved\"],\n",
    "        row[\"own_goals\"],\n",
    "        row['clean_sheets'],\n",
    "        row['saves'],\n",
    "        row['starts'],\n",
    "        row['penalties_missed']))\n",
    "\n",
    "conn.commit()\n",
    "conn.close()"
   ]
  },
  {
   "cell_type": "markdown",
   "metadata": {},
   "source": [
    "# Generate Data for User Team table\n"
   ]
  },
  {
   "cell_type": "code",
   "execution_count": 9,
   "metadata": {},
   "outputs": [],
   "source": [
    "class UserTeam(BaseModel):\n",
    "    user_id: int = Field(..., ge= 0)\n",
    "    player_id: int = Field(..., ge=1, le=678)\n",
    "    starting_eleven: int = Field(..., ge=0, le=1)  "
   ]
  },
  {
   "cell_type": "code",
   "execution_count": 10,
   "metadata": {},
   "outputs": [],
   "source": [
    "users_team_synthetic = []\n",
    "for usern in range(1,11):\n",
    "    available_options = [i for i in range(1,679)]\n",
    "    for _ in range(5):\n",
    "        player = np.random.choice(available_options)\n",
    "        users_team_synthetic.append(UserTeam(user_id=usern, player_id=player, starting_eleven= np.random.randint(0,2)))\n",
    "        available_options.remove(player)"
   ]
  },
  {
   "cell_type": "code",
   "execution_count": 11,
   "metadata": {},
   "outputs": [
    {
     "data": {
      "text/plain": [
       "50"
      ]
     },
     "execution_count": 11,
     "metadata": {},
     "output_type": "execute_result"
    }
   ],
   "source": [
    "len(users_team_synthetic)"
   ]
  },
  {
   "cell_type": "markdown",
   "metadata": {},
   "source": [
    "### Add this new data to the database"
   ]
  },
  {
   "cell_type": "code",
   "execution_count": 12,
   "metadata": {},
   "outputs": [],
   "source": [
    "conn = sqlite3.connect('balliq.db', check_same_thread=False)\n",
    "c = conn.cursor()\n",
    "\n",
    "for result in users_team_synthetic:\n",
    "    c.execute(\"INSERT INTO user_team (user_id, player_id, starting_eleven, on_team) VALUES (?, ?, ?, ?)\",\n",
    "            (result.user_id, result.player_id, result.starting_eleven, 1))\n",
    "\n",
    "conn.commit()\n",
    "conn.close()"
   ]
  },
  {
   "cell_type": "code",
   "execution_count": 13,
   "metadata": {},
   "outputs": [],
   "source": [
    "#Handmade user insert\n",
    "\n",
    "user11 = [UserTeam(user_id=11, player_id=1, starting_eleven= 1),\n",
    "          UserTeam(user_id=11, player_id= 2, starting_eleven= 0),\n",
    "          UserTeam(user_id=11, player_id=3, starting_eleven= 1),\n",
    "          UserTeam(user_id=11, player_id=4, starting_eleven= 0),\n",
    "          UserTeam(user_id=11, player_id=5, starting_eleven= 1),\n",
    "          UserTeam(user_id=11, player_id=6, starting_eleven= 1),\n",
    "          UserTeam(user_id=11, player_id=7, starting_eleven= 0),\n",
    "          UserTeam(user_id=11, player_id=8, starting_eleven= 1),\n",
    "          UserTeam(user_id=11, player_id=9, starting_eleven= 1),\n",
    "          UserTeam(user_id=11, player_id=10, starting_eleven= 0),\n",
    "          UserTeam(user_id=11, player_id=11, starting_eleven= 1),\n",
    "          UserTeam(user_id=11, player_id=12, starting_eleven= 0),\n",
    "          UserTeam(user_id=11, player_id=13, starting_eleven= 1),\n",
    "          UserTeam(user_id=11, player_id=14, starting_eleven= 0),\n",
    "          UserTeam(user_id=11, player_id=15, starting_eleven= 0),\n",
    "          UserTeam(user_id=11, player_id=16, starting_eleven= 1),\n",
    "          UserTeam(user_id=11, player_id=17, starting_eleven= 0),\n",
    "          UserTeam(user_id=11, player_id=18, starting_eleven= 1),\n",
    "          UserTeam(user_id=11, player_id=19, starting_eleven= 1),\n",
    "          UserTeam(user_id=11, player_id=20, starting_eleven= 0),\n",
    "          UserTeam(user_id=11, player_id=21, starting_eleven= 0),\n",
    "          UserTeam(user_id=11, player_id=22, starting_eleven= 0),\n",
    "          UserTeam(user_id=11, player_id=23, starting_eleven= 0),\n",
    "          UserTeam(user_id=11, player_id=24, starting_eleven= 0),\n",
    "          UserTeam(user_id=11, player_id=25, starting_eleven= 0),\n",
    "          UserTeam(user_id=11, player_id=26, starting_eleven= 0),\n",
    "]"
   ]
  },
  {
   "cell_type": "code",
   "execution_count": 14,
   "metadata": {},
   "outputs": [],
   "source": [
    "#Handmade user insert\n",
    "conn = sqlite3.connect('balliq.db', check_same_thread=False)\n",
    "c = conn.cursor()\n",
    "\n",
    "for result in user11:\n",
    "    c.execute(\"INSERT INTO user_team (user_id, player_id, starting_eleven, on_team) VALUES (?, ?, ?, ?)\",\n",
    "            (result.user_id, result.player_id, result.starting_eleven, 1))\n",
    "\n",
    "conn.commit()\n",
    "conn.close()"
   ]
  },
  {
   "cell_type": "markdown",
   "metadata": {},
   "source": [
    "# Upload data to Fixtures from csv"
   ]
  },
  {
   "cell_type": "code",
   "execution_count": 15,
   "metadata": {},
   "outputs": [],
   "source": [
    "fixtures_data = pd.read_csv(\"epl-fixtures-2025.csv\")\n",
    "\n",
    "conn = sqlite3.connect('balliq.db', check_same_thread=False)\n",
    "c = conn.cursor()\n",
    "\n",
    "for index, row in fixtures_data.iterrows():\n",
    "        c.execute(\"\"\"\n",
    "                INSERT INTO fixtures\n",
    "                (week, date, home_team, away_team)\n",
    "                VALUES (?, ?, ?, ?)\"\"\",\n",
    "                (row[\"week\"],\n",
    "                row['date'],\n",
    "                row['home'],\n",
    "                row['away'],\n",
    "                ))\n",
    "\n",
    "conn.commit()\n",
    "conn.close()"
   ]
  },
  {
   "cell_type": "code",
   "execution_count": null,
   "metadata": {},
   "outputs": [],
   "source": []
  }
 ],
 "metadata": {
  "kernelspec": {
   "display_name": "capstone_project",
   "language": "python",
   "name": "python3"
  },
  "language_info": {
   "codemirror_mode": {
    "name": "ipython",
    "version": 3
   },
   "file_extension": ".py",
   "mimetype": "text/x-python",
   "name": "python",
   "nbconvert_exporter": "python",
   "pygments_lexer": "ipython3",
   "version": "3.12.7"
  }
 },
 "nbformat": 4,
 "nbformat_minor": 2
}
