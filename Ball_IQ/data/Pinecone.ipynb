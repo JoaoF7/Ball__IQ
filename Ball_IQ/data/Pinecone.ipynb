{
 "cells": [
  {
   "cell_type": "code",
   "execution_count": 67,
   "metadata": {},
   "outputs": [],
   "source": [
    "import os\n",
    "from typing import List\n",
    "\n",
    "from dotenv import load_dotenv\n",
    "from langchain_community.document_loaders import PyMuPDFLoader\n",
    "from langchain_core.documents.base import Document\n",
    "from langchain_openai import OpenAIEmbeddings\n",
    "from langchain_pinecone import PineconeVectorStore\n",
    "from langchain_text_splitters import RecursiveCharacterTextSplitter\n",
    "from pinecone import Index, Pinecone\n",
    "\n",
    "\n",
    "def get_text_from_pdf(pdf_file: str) -> List[Document]:\n",
    "    \"\"\"\n",
    "    Extracts text from a PDF file and returns it as a list of Document objects.\n",
    "\n",
    "    Args:\n",
    "        pdf_file (str): Path to the PDF file to be processed.\n",
    "\n",
    "    Returns:\n",
    "        List[Document]: A list of Document objects, where each represents a page in the PDF.\n",
    "    \"\"\"\n",
    "    # Initialize the PyMuPDFLoader with the given PDF file\n",
    "    loader = PyMuPDFLoader(pdf_file)\n",
    "\n",
    "    # Initialize an empty list to store the pages\n",
    "    pages: List[Document] = []\n",
    "\n",
    "    # Iterate over each loaded page and add it to the list\n",
    "    for page in loader.load():\n",
    "        pages.append(page)\n",
    "\n",
    "    # Return the list of extracted pages\n",
    "    return pages"
   ]
  },
  {
   "cell_type": "code",
   "execution_count": 99,
   "metadata": {},
   "outputs": [],
   "source": [
    "from dotenv import load_dotenv\n",
    "import os\n",
    "\n",
    "# Load the OpenAI API key from the .env file\n",
    "load_dotenv()\n",
    "api_key = os.getenv(\"api_key\")\n",
    "if api_key is None:\n",
    "    raise ValueError(\"The api_key environment variable is not set.\")"
   ]
  },
  {
   "cell_type": "code",
   "execution_count": 69,
   "metadata": {},
   "outputs": [
    {
     "data": {
      "text/plain": [
       "['Action_and_Points_No_Bold.pdf.pdf',\n",
       " 'How_to_Manage_Your_Squad.pdf.pdf',\n",
       " 'Project - 1st Delivery.pdf',\n",
       " 'Solution_Design_Group4.pdf.pdf',\n",
       " 'Stats_Explained.pdf.pdf']"
      ]
     },
     "execution_count": 69,
     "metadata": {},
     "output_type": "execute_result"
    }
   ],
   "source": [
    "pdf_files = [f for f in os.listdir() if f.endswith(\".pdf\")]\n",
    "pdf_files"
   ]
  },
  {
   "cell_type": "code",
   "execution_count": 70,
   "metadata": {},
   "outputs": [],
   "source": [
    "# Initialize a list to store all extracted documents\n",
    "docs: List[Document] = []\n",
    "\n",
    "# Extract text from each PDF file and add to the docs list\n",
    "for pdf_file in pdf_files:\n",
    "    docs.extend(get_text_from_pdf(pdf_file))"
   ]
  },
  {
   "cell_type": "code",
   "execution_count": 71,
   "metadata": {},
   "outputs": [],
   "source": [
    "text_splitter = RecursiveCharacterTextSplitter(\n",
    "    separators=\"\\n\",  # Split on newlines\n",
    "    chunk_size=1000,  # Maximum size of each chunk\n",
    "    chunk_overlap=250,  # Overlap between chunks to preserve context\n",
    "    add_start_index=True,  # Include the starting index of each chunk\n",
    ")"
   ]
  },
  {
   "cell_type": "code",
   "execution_count": 72,
   "metadata": {},
   "outputs": [],
   "source": [
    "all_splits = text_splitter.split_documents(docs)"
   ]
  },
  {
   "cell_type": "code",
   "execution_count": 75,
   "metadata": {},
   "outputs": [
    {
     "data": {
      "text/plain": [
       "(5, 1536)"
      ]
     },
     "execution_count": 75,
     "metadata": {},
     "output_type": "execute_result"
    }
   ],
   "source": [
    "embeddings_model = OpenAIEmbeddings(api_key= api_key, model=\"text-embedding-3-small\")\n",
    "\n",
    "embeddings = embeddings_model.embed_documents(\n",
    "    [\n",
    "        \"Hi there!\",\n",
    "        \"Oh, hello!\",\n",
    "        \"What's your name?\",\n",
    "        \"My friends call me World\",\n",
    "        \"Hello World!\"\n",
    "    ]\n",
    ")\n",
    "\n",
    "len(embeddings), len(embeddings[0])"
   ]
  },
  {
   "cell_type": "code",
   "execution_count": null,
   "metadata": {},
   "outputs": [],
   "source": [
    "import os\n",
    "import pinecone\n",
    "import openai\n",
    "from PyPDF2 import PdfReader\n",
    "from sentence_transformers import SentenceTransformer"
   ]
  },
  {
   "cell_type": "code",
   "execution_count": 90,
   "metadata": {},
   "outputs": [],
   "source": [
    "import os\n",
    "\n",
    "use_serverless = True"
   ]
  },
  {
   "cell_type": "code",
   "execution_count": 91,
   "metadata": {},
   "outputs": [],
   "source": [
    "from pinecone import Pinecone\n",
    "\n",
    "api_key = os.environ.get(\"PINECONE_API_KEY\")\n",
    "\n",
    "pc = Pinecone(api_key=api_key)"
   ]
  },
  {
   "cell_type": "code",
   "execution_count": 92,
   "metadata": {},
   "outputs": [],
   "source": [
    "from pinecone import ServerlessSpec\n",
    "\n",
    "spec = ServerlessSpec(cloud=\"aws\", region= \"us-east-1\")"
   ]
  },
  {
   "cell_type": "code",
   "execution_count": 93,
   "metadata": {},
   "outputs": [],
   "source": [
    "index_name = \"capstone-project\""
   ]
  },
  {
   "cell_type": "code",
   "execution_count": 94,
   "metadata": {},
   "outputs": [],
   "source": [
    "if index_name in pc.list_indexes().names():\n",
    "    pc.delete_index(index_name)"
   ]
  },
  {
   "cell_type": "code",
   "execution_count": 95,
   "metadata": {},
   "outputs": [],
   "source": [
    "import time\n",
    "\n",
    "dimensions = 1536\n",
    "pc.create_index(name = index_name,\n",
    "                dimension= dimensions,\n",
    "                metric= \"cosine\",\n",
    "                spec = spec)\n",
    "\n",
    "while not pc.describe_index(index_name).status[\"ready\"]:\n",
    "    time.sleep(1)"
   ]
  },
  {
   "cell_type": "code",
   "execution_count": 96,
   "metadata": {},
   "outputs": [],
   "source": [
    "index = pc.Index(index_name)"
   ]
  },
  {
   "cell_type": "code",
   "execution_count": null,
   "metadata": {},
   "outputs": [],
   "source": [
    "from dotenv import load_dotenv\n",
    "import os\n",
    "\n",
    "# Load the OpenAI API key from the .env file\n",
    "load_dotenv()\n",
    "api_key = os.getenv(\"api_key\")\n",
    "if api_key is None:\n",
    "    raise ValueError(\"The api_key environment variable is not set.\")"
   ]
  },
  {
   "cell_type": "code",
   "execution_count": 101,
   "metadata": {},
   "outputs": [],
   "source": [
    "# Initialize a Pinecone vector store with OpenAI embeddings\n",
    "vector_store = PineconeVectorStore(\n",
    "    index=index, embedding=OpenAIEmbeddings(api_key=api_key, model=\"text-embedding-3-small\")\n",
    ")"
   ]
  },
  {
   "cell_type": "code",
   "execution_count": 102,
   "metadata": {},
   "outputs": [
    {
     "data": {
      "text/plain": [
       "['0',\n",
       " '1',\n",
       " '2',\n",
       " '3',\n",
       " '4',\n",
       " '5',\n",
       " '6',\n",
       " '7',\n",
       " '8',\n",
       " '9',\n",
       " '10',\n",
       " '11',\n",
       " '12',\n",
       " '13',\n",
       " '14',\n",
       " '15',\n",
       " '16',\n",
       " '17',\n",
       " '18',\n",
       " '19',\n",
       " '20',\n",
       " '21',\n",
       " '22',\n",
       " '23',\n",
       " '24',\n",
       " '25',\n",
       " '26',\n",
       " '27',\n",
       " '28',\n",
       " '29',\n",
       " '30',\n",
       " '31',\n",
       " '32',\n",
       " '33',\n",
       " '34',\n",
       " '35',\n",
       " '36',\n",
       " '37',\n",
       " '38']"
      ]
     },
     "execution_count": 102,
     "metadata": {},
     "output_type": "execute_result"
    }
   ],
   "source": [
    "# Generate unique IDs for each chunk\n",
    "ids = [str(i) for i in range(len(all_splits))]\n",
    "\n",
    "# Add the documents and their embeddings to the vector store\n",
    "vector_store.add_documents(documents=all_splits, ids=ids)"
   ]
  },
  {
   "cell_type": "code",
   "execution_count": 103,
   "metadata": {},
   "outputs": [],
   "source": [
    "from langchain_core.output_parsers import StrOutputParser\n",
    "from langchain_core.runnables import RunnablePassthrough\n",
    "from langchain_openai import ChatOpenAI\n",
    "from langchain_core.prompts import PromptTemplate\n",
    "from operator import itemgetter\n",
    "\n",
    "\n",
    "def format_docs(documents):\n",
    "    return \"\\n\\n\".join(doc.page_content for doc in documents)"
   ]
  },
  {
   "cell_type": "code",
   "execution_count": 104,
   "metadata": {},
   "outputs": [],
   "source": [
    "retriever = vector_store.as_retriever(\n",
    "            search_type=\"similarity_score_threshold\",\n",
    "            search_kwargs={\"k\": 2, \"score_threshold\": 0.5},\n",
    "        )"
   ]
  },
  {
   "cell_type": "code",
   "execution_count": 107,
   "metadata": {},
   "outputs": [],
   "source": [
    "response = retriever.invoke(\"How many poits by scoring a goal?\")"
   ]
  },
  {
   "cell_type": "code",
   "execution_count": 108,
   "metadata": {},
   "outputs": [
    {
     "name": "stdout",
     "output_type": "stream",
     "text": [
      "Action and Points\n",
      "For playing up to 60 minutes: 1 point\n",
      "For playing 60 minutes or more: 2 points\n",
      "For each goal scored by goalkeeper: 10 points\n",
      "For each goal scored by defender: 6 points\n",
      "For each goal scored by midfielder: 5 points\n",
      "For each goal scored by forward: 4 points\n",
      "For each assist for a goal: 3 points\n",
      "For a clean sheet by a goalkeeper or defender: 4 points\n",
      "For a clean sheet by a midfielder: 1 point\n",
      "For every 3 shots saved by goalkeeper: 1 point\n",
      "For each penalty save: 5 points\n",
      "For each penalty miss: -2 points\n",
      "Bonus points for man of the match: 3 points\n",
      "For every 2 goals conceded by goalkeeper or defender: -1 point\n",
      "For each yellow card: -1 point\n",
      "For each red card: -3 points\n",
      "For each own goal: -2 points\n"
     ]
    }
   ],
   "source": [
    "print(response[0].page_content)\n"
   ]
  },
  {
   "cell_type": "code",
   "execution_count": 110,
   "metadata": {},
   "outputs": [],
   "source": [
    "llm = ChatOpenAI(api_key=api_key, model=\"gpt-4o-mini\")\n",
    "\n",
    "\n",
    "template = \"\"\"Use the following pieces of context to answer the question at the end.\n",
    "            If you don't know the answer, just say that you don't know, don't try to make up an answer.\n",
    "            Use three sentences maximum and keep the answer as concise as possible.\n",
    "            You have acess to the previous conversation history to personalize the conversation.\n",
    "\n",
    "{context}\n",
    "\n",
    "Question: {question}\n",
    "\"\"\"\n",
    "\n",
    "custom_rag_prompt = PromptTemplate.from_template(template)"
   ]
  },
  {
   "cell_type": "code",
   "execution_count": 111,
   "metadata": {},
   "outputs": [],
   "source": [
    "rag_chain = (\n",
    "    {\"context\": retriever | format_docs, \"question\": RunnablePassthrough()}\n",
    "    | custom_rag_prompt\n",
    "    | llm\n",
    "    | StrOutputParser()\n",
    ")"
   ]
  },
  {
   "cell_type": "code",
   "execution_count": 112,
   "metadata": {},
   "outputs": [],
   "source": [
    "response = rag_chain.invoke(\"How many poits by scoring a goal?\")"
   ]
  },
  {
   "cell_type": "code",
   "execution_count": 113,
   "metadata": {},
   "outputs": [
    {
     "name": "stdout",
     "output_type": "stream",
     "text": [
      "The points awarded for scoring a goal depend on the player's position: 10 points for a goalkeeper, 6 points for a defender, 5 points for a midfielder, and 4 points for a forward.\n"
     ]
    }
   ],
   "source": [
    "print(response)\n"
   ]
  },
  {
   "cell_type": "code",
   "execution_count": null,
   "metadata": {},
   "outputs": [],
   "source": []
  }
 ],
 "metadata": {
  "kernelspec": {
   "display_name": "capstone_project",
   "language": "python",
   "name": "python3"
  },
  "language_info": {
   "codemirror_mode": {
    "name": "ipython",
    "version": 3
   },
   "file_extension": ".py",
   "mimetype": "text/x-python",
   "name": "python",
   "nbconvert_exporter": "python",
   "pygments_lexer": "ipython3",
   "version": "3.12.7"
  }
 },
 "nbformat": 4,
 "nbformat_minor": 2
}
