{
 "cells": [
  {
   "cell_type": "code",
   "execution_count": 44,
   "metadata": {},
   "outputs": [],
   "source": [
    "from pydantic import BaseModel, Field\n",
    "from langchain.output_parsers import PydanticOutputParser\n",
    "from langchain_core.prompts import PromptTemplate\n",
    "from langchain_openai import ChatOpenAI\n",
    "from dotenv import load_dotenv\n",
    "import os"
   ]
  },
  {
   "cell_type": "code",
   "execution_count": 45,
   "metadata": {},
   "outputs": [],
   "source": [
    "# Load the OpenAI API key from the .env file\n",
    "load_dotenv()\n",
    "api_key = os.getenv(\"api_key\")\n",
    "if api_key is None:\n",
    "    raise ValueError(\"The api_key environment variable is not set.\")"
   ]
  },
  {
   "cell_type": "code",
   "execution_count": 46,
   "metadata": {},
   "outputs": [],
   "source": [
    "from auxiliar import add_messages"
   ]
  },
  {
   "cell_type": "code",
   "execution_count": 47,
   "metadata": {},
   "outputs": [],
   "source": [
    "class SyntheticUserMessage(BaseModel):\n",
    "\n",
    "    message: str = Field(\n",
    "        ...,\n",
    "        title=\"Message\",\n",
    "        description=\"The user message to generate for the target task intention.\",\n",
    "    )\n",
    "\n",
    "\n",
    "class ListSyntheticUserMessages(BaseModel):\n",
    "\n",
    "    messages: list[SyntheticUserMessage] = Field(\n",
    "        ...,\n",
    "        title=\"Messages\",\n",
    "        description=\"The list of synthetic user messages to generate for the target task intention.\",\n",
    "    )\n",
    "\n",
    "output_parser = PydanticOutputParser(pydantic_object=ListSyntheticUserMessages)"
   ]
  },
  {
   "cell_type": "code",
   "execution_count": 48,
   "metadata": {},
   "outputs": [],
   "source": [
    "system_prompt = \"\"\"\n",
    "You are tasked with generating synthetic user messages for an Fantasy Football platform called Ball IQ, which specializes in premier league football.\n",
    "The user intentions are:\n",
    "{user_intentions}\n",
    "\n",
    "Your task is to create {k} distinct messages for the following target task intention:\n",
    "{target_task_intention}\n",
    "\n",
    "Specific information about the target task intention:\n",
    "{target_task_intention_description}\n",
    "\n",
    "Follow these guidelines:\n",
    "1. Focus exclusively on the target task intention, ensuring the message is relevant.\n",
    "2. Each message should be between 7 and 25 words.\n",
    "3. Avoid including any details or references to other user intentions.\n",
    "4. Ensure the messages sound natural and typical of user queries for the given intention.\n",
    "5. Follow the provided format strictly to maintain consistency.\n",
    "7. Make sure most of the message are words and not nouns\n",
    "\n",
    "Message format:\n",
    "{format_instructions}\n",
    "\"\"\"\n",
    "\n",
    "prompt = PromptTemplate(\n",
    "    template=system_prompt,\n",
    "    input_variables=[\"k\", \"user_intentions\", \"target_task_intention\" \"target_task_intention_description\", \"format_instructions\"],\n",
    "    partial_variables={\"format_instructions\": output_parser.get_format_instructions()},\n",
    ")"
   ]
  },
  {
   "cell_type": "code",
   "execution_count": 49,
   "metadata": {},
   "outputs": [],
   "source": [
    "llm = ChatOpenAI(api_key= api_key, temperature=0.0, model=\"gpt-4o-mini\")\n",
    "\n",
    "user_intentions = [\"check_upcoming_fixtures\", \"optimize_lineup\",  \"putting_players_in_starting11\", \"know_information_about_stats\", \"recommend_players\", \"transfer_players\", \"view_or_update_team_points\", \"view_players_stats\", \"chit_chat_about_company\"]\n",
    "k = 50 # Number of synthetic user messages to generate for each target task intention\n",
    "\n",
    "file_name = \"synthetic_intetions.json\"\n",
    "\n",
    "synthetic_data_chain = prompt | llm | output_parser"
   ]
  },
  {
   "cell_type": "markdown",
   "metadata": {},
   "source": [
    "# Intention 1: Check upcoming fixtures"
   ]
  },
  {
   "cell_type": "code",
   "execution_count": 50,
   "metadata": {},
   "outputs": [],
   "source": [
    "intention = \"check_upcoming_fixtures\"\n",
    "\n",
    "description = \"The user wants to know the upcoming matches for a player in their team. To do so they ask for a player and the week they want information.\\\n",
    "                They might ask questions related what the next game of the player will be or who a player will play against in a certain week.\"\n",
    "\n",
    "response = synthetic_data_chain.invoke({\"k\": k, \"user_intentions\": user_intentions, \"target_task_intention\": intention, \"target_task_intention_description\": description})\n",
    "\n",
    "check_upcoming_fixtures_messages = []\n",
    "for message in response.messages:\n",
    "    check_upcoming_fixtures_messages.append({\"Intention\":intention, \"Message\":message.message})"
   ]
  },
  {
   "cell_type": "code",
   "execution_count": 51,
   "metadata": {},
   "outputs": [
    {
     "data": {
      "text/plain": [
       "[{'Intention': 'check_upcoming_fixtures',\n",
       "  'Message': 'What are the upcoming fixtures for Harry Kane this week?'},\n",
       " {'Intention': 'check_upcoming_fixtures',\n",
       "  'Message': 'Can you tell me who Mohamed Salah is playing against next week?'},\n",
       " {'Intention': 'check_upcoming_fixtures',\n",
       "  'Message': \"When is Son Heung-min's next match scheduled?\"},\n",
       " {'Intention': 'check_upcoming_fixtures',\n",
       "  'Message': 'What are the fixtures for Kevin De Bruyne in the upcoming week?'},\n",
       " {'Intention': 'check_upcoming_fixtures',\n",
       "  'Message': 'Who does Bruno Fernandes face in the next game?'}]"
      ]
     },
     "execution_count": 51,
     "metadata": {},
     "output_type": "execute_result"
    }
   ],
   "source": [
    "check_upcoming_fixtures_messages[:5]"
   ]
  },
  {
   "cell_type": "code",
   "execution_count": 52,
   "metadata": {},
   "outputs": [],
   "source": [
    "add_messages(check_upcoming_fixtures_messages, file_name)"
   ]
  },
  {
   "cell_type": "markdown",
   "metadata": {},
   "source": [
    "# Intention 2: Optimize Lineup"
   ]
  },
  {
   "cell_type": "code",
   "execution_count": 53,
   "metadata": {},
   "outputs": [],
   "source": [
    "intention = \"optimize_lineup\"\n",
    "\n",
    "description = \"The user wants to optimize their lineup, to do they can just ask for an optimization on their lineup or provide a tactic too\\\n",
    "                They might ask questions related what to who they should have for defenders, midfielders or forwards, or just give the tactic their team plays in\\\n",
    "                When a tactic is provided it should follow one of these formats 433, 4-3-3, 4/3/3, try to be creative, a tactic may also not be provided and a user can also ask for a specific number of players for a certain position\"\n",
    "\n",
    "response = synthetic_data_chain.invoke({\"k\": k, \"user_intentions\": user_intentions, \"target_task_intention\": intention, \"target_task_intention_description\": description})\n",
    "\n",
    "optimize_lineup_messages = []\n",
    "for message in response.messages:\n",
    "    optimize_lineup_messages.append({\"Intention\":intention, \"Message\":message.message})"
   ]
  },
  {
   "cell_type": "code",
   "execution_count": 54,
   "metadata": {},
   "outputs": [
    {
     "data": {
      "text/plain": [
       "[{'Intention': 'optimize_lineup',\n",
       "  'Message': 'Can you help me optimize my lineup for a 4-3-3 formation?'},\n",
       " {'Intention': 'optimize_lineup',\n",
       "  'Message': 'What players should I choose for my midfield in a 4/3/3?'},\n",
       " {'Intention': 'optimize_lineup',\n",
       "  'Message': 'I need suggestions to optimize my lineup for this weekend.'},\n",
       " {'Intention': 'optimize_lineup',\n",
       "  'Message': 'How can I improve my defense in a 4-3-3 setup?'},\n",
       " {'Intention': 'optimize_lineup',\n",
       "  'Message': 'Which forwards should I prioritize for my starting eleven?'}]"
      ]
     },
     "execution_count": 54,
     "metadata": {},
     "output_type": "execute_result"
    }
   ],
   "source": [
    "optimize_lineup_messages[:5]"
   ]
  },
  {
   "cell_type": "code",
   "execution_count": 55,
   "metadata": {},
   "outputs": [],
   "source": [
    "add_messages(optimize_lineup_messages, file_name)"
   ]
  },
  {
   "cell_type": "markdown",
   "metadata": {},
   "source": [
    "# Intention 3: Putting Players in Starting11"
   ]
  },
  {
   "cell_type": "code",
   "execution_count": 56,
   "metadata": {},
   "outputs": [],
   "source": [
    "intention = \"putting_players_in_starting11\"\n",
    "\n",
    "description = \"The user wants to make a change in their starting eleven. To do so they must define wether they want a player into his starting team of out of his starting team\\\n",
    "                They might make statements related to taking players out of their starting eleven or putting a player in their starting eleven\"\n",
    "\n",
    "response = synthetic_data_chain.invoke({\"k\": k, \"user_intentions\": user_intentions, \"target_task_intention\": intention, \"target_task_intention_description\": description})\n",
    "\n",
    "putting_players_in_starting11_messages = []\n",
    "for message in response.messages:\n",
    "    putting_players_in_starting11_messages.append({\"Intention\":intention, \"Message\":message.message})"
   ]
  },
  {
   "cell_type": "code",
   "execution_count": 57,
   "metadata": {},
   "outputs": [
    {
     "data": {
      "text/plain": [
       "[{'Intention': 'putting_players_in_starting11',\n",
       "  'Message': 'I want to put Salah in my starting eleven.'},\n",
       " {'Intention': 'putting_players_in_starting11',\n",
       "  'Message': 'Can I take out Kane from my starting lineup?'},\n",
       " {'Intention': 'putting_players_in_starting11',\n",
       "  'Message': 'Please add Bruno Fernandes to my starting team.'},\n",
       " {'Intention': 'putting_players_in_starting11',\n",
       "  'Message': 'I need to remove Son from my starting eleven.'},\n",
       " {'Intention': 'putting_players_in_starting11',\n",
       "  'Message': \"Let's put Haaland in the starting lineup.\"}]"
      ]
     },
     "execution_count": 57,
     "metadata": {},
     "output_type": "execute_result"
    }
   ],
   "source": [
    "putting_players_in_starting11_messages[:5]"
   ]
  },
  {
   "cell_type": "code",
   "execution_count": 58,
   "metadata": {},
   "outputs": [],
   "source": [
    "add_messages(putting_players_in_starting11_messages, file_name)"
   ]
  },
  {
   "cell_type": "markdown",
   "metadata": {},
   "source": [
    "# Intention 4: Know Information about Football Stats"
   ]
  },
  {
   "cell_type": "code",
   "execution_count": 59,
   "metadata": {},
   "outputs": [],
   "source": [
    "intention = \"know_information_about_stats\"\n",
    "\n",
    "description = \"The user wants to know something about one common football stat or something related to a stat and fantasy football\\\n",
    "                They might make questions either related to stats themselves like what is a goal or about something relating stats and fantasy football, like the amount of fantasy points for a goal\"\n",
    "                \n",
    "response = synthetic_data_chain.invoke({\"k\": k, \"user_intentions\": user_intentions, \"target_task_intention\": intention, \"target_task_intention_description\": description})\n",
    "\n",
    "know_information_about_stats_messages = []\n",
    "for message in response.messages:\n",
    "    know_information_about_stats_messages.append({\"Intention\":intention, \"Message\":message.message})\n"
   ]
  },
  {
   "cell_type": "code",
   "execution_count": 60,
   "metadata": {},
   "outputs": [
    {
     "data": {
      "text/plain": [
       "[{'Intention': 'know_information_about_stats',\n",
       "  'Message': 'What does a goal count for in fantasy points?'},\n",
       " {'Intention': 'know_information_about_stats',\n",
       "  'Message': 'How many points do assists earn in fantasy football?'},\n",
       " {'Intention': 'know_information_about_stats',\n",
       "  'Message': 'Can you explain how clean sheets affect player stats?'},\n",
       " {'Intention': 'know_information_about_stats',\n",
       "  'Message': 'What is the point value for a penalty save?'},\n",
       " {'Intention': 'know_information_about_stats',\n",
       "  'Message': 'How are yellow cards factored into player scoring?'}]"
      ]
     },
     "execution_count": 60,
     "metadata": {},
     "output_type": "execute_result"
    }
   ],
   "source": [
    "know_information_about_stats_messages[:5]"
   ]
  },
  {
   "cell_type": "code",
   "execution_count": 61,
   "metadata": {},
   "outputs": [],
   "source": [
    "add_messages(know_information_about_stats_messages, file_name)"
   ]
  },
  {
   "cell_type": "markdown",
   "metadata": {},
   "source": [
    "# Intention 5: Recommend Player"
   ]
  },
  {
   "cell_type": "code",
   "execution_count": 62,
   "metadata": {},
   "outputs": [],
   "source": [
    "intention = \"recommend_players\"\n",
    "\n",
    "description = \"The user wants to get players recommended to him. To do so he may ask for certain position, choose the number of players he want recommended, some players they want to exclude, or even set a budget\\\n",
    "                They might make statements containing the position, number, budget, players they want to exclude, or neither and just ask for recommendations.\"\n",
    "                \n",
    "response = synthetic_data_chain.invoke({\"k\": k, \"user_intentions\": user_intentions, \"target_task_intention\": intention, \"target_task_intention_description\": description})\n",
    "\n",
    "recommend_players_messages = []\n",
    "for message in response.messages:\n",
    "    recommend_players_messages.append({\"Intention\":intention, \"Message\":message.message})\n"
   ]
  },
  {
   "cell_type": "code",
   "execution_count": 63,
   "metadata": {},
   "outputs": [
    {
     "data": {
      "text/plain": [
       "[{'Intention': 'recommend_players',\n",
       "  'Message': 'Can you recommend some midfielders for my team?'},\n",
       " {'Intention': 'recommend_players',\n",
       "  'Message': 'I need two forwards. Any suggestions?'},\n",
       " {'Intention': 'recommend_players',\n",
       "  'Message': 'Please recommend players under 8 million.'},\n",
       " {'Intention': 'recommend_players',\n",
       "  'Message': 'Who are the best defenders to pick this week?'},\n",
       " {'Intention': 'recommend_players',\n",
       "  'Message': 'Suggest me three players to consider for my lineup.'}]"
      ]
     },
     "execution_count": 63,
     "metadata": {},
     "output_type": "execute_result"
    }
   ],
   "source": [
    "recommend_players_messages[:5]"
   ]
  },
  {
   "cell_type": "code",
   "execution_count": 64,
   "metadata": {},
   "outputs": [],
   "source": [
    "add_messages(recommend_players_messages, file_name)"
   ]
  },
  {
   "cell_type": "markdown",
   "metadata": {},
   "source": [
    "# Intention 6: Transfer Players"
   ]
  },
  {
   "cell_type": "code",
   "execution_count": 66,
   "metadata": {},
   "outputs": [],
   "source": [
    "intention = \"transfer_players\"\n",
    "\n",
    "description = \"The user wants to take a player out of his squad and replace him with another os simply add a new player, if the user wants to replace a player in his squad he need to tell both names and if he just wants to add a new one he just has to tell one name\\\n",
    "                They might make statements either taking a player out and bringing another in or just adding a player to the team\"\n",
    "                \n",
    "response = synthetic_data_chain.invoke({\"k\": k, \"user_intentions\": user_intentions, \"target_task_intention\": intention, \"target_task_intention_description\": description})\n",
    "\n",
    "transfer_players_messages = []\n",
    "for message in response.messages:\n",
    "    transfer_players_messages.append({\"Intention\":intention, \"Message\":message.message})\n"
   ]
  },
  {
   "cell_type": "code",
   "execution_count": 67,
   "metadata": {},
   "outputs": [
    {
     "data": {
      "text/plain": [
       "[{'Intention': 'transfer_players',\n",
       "  'Message': 'I want to transfer out Salah and bring in Son.'},\n",
       " {'Intention': 'transfer_players', 'Message': 'Can I add Haaland to my team?'},\n",
       " {'Intention': 'transfer_players',\n",
       "  'Message': 'Please replace Bruno with KDB.'},\n",
       " {'Intention': 'transfer_players',\n",
       "  'Message': 'I’d like to transfer out Kane for Nunez.'},\n",
       " {'Intention': 'transfer_players', 'Message': 'Add Rashford to my squad.'}]"
      ]
     },
     "execution_count": 67,
     "metadata": {},
     "output_type": "execute_result"
    }
   ],
   "source": [
    "transfer_players_messages[:5]"
   ]
  },
  {
   "cell_type": "code",
   "execution_count": 68,
   "metadata": {},
   "outputs": [],
   "source": [
    "add_messages(transfer_players_messages, file_name)"
   ]
  },
  {
   "cell_type": "markdown",
   "metadata": {},
   "source": [
    "# Intention 7: View or Update Team Points"
   ]
  },
  {
   "cell_type": "code",
   "execution_count": 69,
   "metadata": {},
   "outputs": [],
   "source": [
    "intention = \"view_or_update_team_points\"\n",
    "\n",
    "description = \"The user wants to either update or view his team points, if he wants to just view all he needs to do is ask , but if he wants to update he will need give an integer from 0 to 100 that is his new team points\\\n",
    "                They might make statements either saying they want to view or to update their points\"\n",
    "\n",
    "response = synthetic_data_chain.invoke({\"k\": k, \"user_intentions\": user_intentions, \"target_task_intention\": intention, \"target_task_intention_description\": description})\n",
    "\n",
    "view_or_update_team_points_messages = []\n",
    "for message in response.messages:\n",
    "    view_or_update_team_points_messages.append({\"Intention\":intention, \"Message\":message.message})"
   ]
  },
  {
   "cell_type": "code",
   "execution_count": 70,
   "metadata": {},
   "outputs": [
    {
     "data": {
      "text/plain": [
       "[{'Intention': 'view_or_update_team_points',\n",
       "  'Message': 'Can you show me my current team points?'},\n",
       " {'Intention': 'view_or_update_team_points',\n",
       "  'Message': 'I want to check how many points my team has.'},\n",
       " {'Intention': 'view_or_update_team_points',\n",
       "  'Message': 'What are my team points right now?'},\n",
       " {'Intention': 'view_or_update_team_points',\n",
       "  'Message': 'Please display my team points for me.'},\n",
       " {'Intention': 'view_or_update_team_points',\n",
       "  'Message': \"I'd like to see my total team points.\"}]"
      ]
     },
     "execution_count": 70,
     "metadata": {},
     "output_type": "execute_result"
    }
   ],
   "source": [
    "view_or_update_team_points_messages[:5]"
   ]
  },
  {
   "cell_type": "code",
   "execution_count": 71,
   "metadata": {},
   "outputs": [],
   "source": [
    "add_messages(view_or_update_team_points_messages, file_name)"
   ]
  },
  {
   "cell_type": "markdown",
   "metadata": {},
   "source": [
    "# Intention 8: View players stats"
   ]
  },
  {
   "cell_type": "code",
   "execution_count": 72,
   "metadata": {},
   "outputs": [],
   "source": [
    "intention = \"view_players_stats\"\n",
    "\n",
    "description = \"The user wants to view the stats for a certain player he can ask for what stats he wants (goal, assists, price evolution, form rank, and more) or simply say nothing and get them all\\\n",
    "                They will make statements containing the name of the player and asking for information.\"\n",
    "\n",
    "response = synthetic_data_chain.invoke({\"k\": k, \"user_intentions\": user_intentions, \"target_task_intention\": intention, \"target_task_intention_description\": description})\n",
    "\n",
    "view_players_stats_points_messages = []\n",
    "for message in response.messages:\n",
    "    view_players_stats_points_messages.append({\"Intention\":intention, \"Message\":message.message})"
   ]
  },
  {
   "cell_type": "code",
   "execution_count": 73,
   "metadata": {},
   "outputs": [
    {
     "data": {
      "text/plain": [
       "[{'Intention': 'view_players_stats',\n",
       "  'Message': 'Can you show me the stats for Harry Kane?'},\n",
       " {'Intention': 'view_players_stats',\n",
       "  'Message': \"What are Mohamed Salah's goals and assists this season?\"},\n",
       " {'Intention': 'view_players_stats',\n",
       "  'Message': \"I'd like to see the price evolution for Kevin De Bruyne.\"},\n",
       " {'Intention': 'view_players_stats',\n",
       "  'Message': \"Please provide me with Son Heung-min's current form rank.\"},\n",
       " {'Intention': 'view_players_stats',\n",
       "  'Message': 'What are the latest stats for Bruno Fernandes?'}]"
      ]
     },
     "execution_count": 73,
     "metadata": {},
     "output_type": "execute_result"
    }
   ],
   "source": [
    "view_players_stats_points_messages[:5]"
   ]
  },
  {
   "cell_type": "code",
   "execution_count": 74,
   "metadata": {},
   "outputs": [],
   "source": [
    "add_messages(view_players_stats_points_messages, file_name)"
   ]
  },
  {
   "cell_type": "markdown",
   "metadata": {},
   "source": [
    "# Intention 9: Chit chat about the company"
   ]
  },
  {
   "cell_type": "code",
   "execution_count": 75,
   "metadata": {},
   "outputs": [],
   "source": [
    "intention = \"chit_chat_about_company\"\n",
    "\n",
    "description = \"The user makes some chit chat asking about the company\\\n",
    "                They will make statements and questions about the company. The company is named Ball IQ\\\n",
    "                use words like the name, company and synonyms \"\n",
    "\n",
    "response = synthetic_data_chain.invoke({\"k\": 25, \"user_intentions\": user_intentions, \"target_task_intention\": intention, \"target_task_intention_description\": description})\n",
    "\n",
    "chit_chat_about_company_messages = []\n",
    "for message in response.messages:\n",
    "    chit_chat_about_company_messages.append({\"Intention\":intention, \"Message\":message.message})"
   ]
  },
  {
   "cell_type": "code",
   "execution_count": 76,
   "metadata": {},
   "outputs": [
    {
     "data": {
      "text/plain": [
       "[{'Intention': 'chit_chat_about_company',\n",
       "  'Message': 'What inspired the name Ball IQ for your company?'},\n",
       " {'Intention': 'chit_chat_about_company',\n",
       "  'Message': 'How did Ball IQ get started in the fantasy football space?'},\n",
       " {'Intention': 'chit_chat_about_company',\n",
       "  'Message': 'Can you share more about the mission of Ball IQ?'},\n",
       " {'Intention': 'chit_chat_about_company',\n",
       "  'Message': 'What sets Ball IQ apart from other fantasy football platforms?'},\n",
       " {'Intention': 'chit_chat_about_company',\n",
       "  'Message': 'How does Ball IQ ensure user satisfaction and engagement?'}]"
      ]
     },
     "execution_count": 76,
     "metadata": {},
     "output_type": "execute_result"
    }
   ],
   "source": [
    "chit_chat_about_company_messages[:5]"
   ]
  },
  {
   "cell_type": "code",
   "execution_count": 77,
   "metadata": {},
   "outputs": [],
   "source": [
    "add_messages(chit_chat_about_company_messages, file_name)"
   ]
  },
  {
   "cell_type": "markdown",
   "metadata": {},
   "source": [
    "# No Intention: None"
   ]
  },
  {
   "cell_type": "code",
   "execution_count": 78,
   "metadata": {},
   "outputs": [],
   "source": [
    "system_prompt = \"\"\"\n",
    "You are tasked with generating synthetic user messages.\n",
    "\n",
    "The user intentions are:\n",
    "{user_intentions}\n",
    "\n",
    "Your task is to create {k} distinct messages completely unrelated to the available user intentions.\n",
    "These messages should be generic and not related to any specific task or intention.\n",
    "The user is engaging in casual conversation.\n",
    "The user might ask general questions, share opinions, or express emotions. \n",
    "The user might also ask for totaly none related questions to the platform. \n",
    "The user might ask general questions, share opinions, or express emotions.\n",
    "\n",
    "Follow these guidelines:\n",
    "1. Focus exclusively on not being related to any of the user intentions.\n",
    "2. Each message should be between 5 and 20 words.\n",
    "3. Avoid including any details or references to other user intentions.\n",
    "4. Ensure the messages sound natural and typical of user queries for the given intention.\n",
    "5. Follow the provided format strictly to maintain consistency.\n",
    "\n",
    "Message format:\n",
    "{format_instructions}\n",
    "\"\"\""
   ]
  },
  {
   "cell_type": "code",
   "execution_count": 79,
   "metadata": {},
   "outputs": [],
   "source": [
    "prompt = PromptTemplate(\n",
    "    template=system_prompt,\n",
    "    input_variables=[\"k\", \"user_intentions\"],\n",
    "    partial_variables={\"format_instructions\": output_parser.get_format_instructions()},\n",
    ")\n",
    "\n",
    "synthetic_data_chain = prompt | llm | output_parser"
   ]
  },
  {
   "cell_type": "code",
   "execution_count": 80,
   "metadata": {},
   "outputs": [],
   "source": [
    "response = synthetic_data_chain.invoke({\"k\": 25, \"user_intentions\": user_intentions})\n",
    "\n",
    "none_related_messages = []\n",
    "\n",
    "for message in response.messages:\n",
    "    none_related_messages.append({\"Intention\":\"None\", \"Message\":message.message})"
   ]
  },
  {
   "cell_type": "code",
   "execution_count": 81,
   "metadata": {},
   "outputs": [
    {
     "data": {
      "text/plain": [
       "[{'Intention': 'None', 'Message': \"What's your favorite movie of all time?\"},\n",
       " {'Intention': 'None',\n",
       "  'Message': \"I love the weather today, it's so nice outside!\"},\n",
       " {'Intention': 'None', 'Message': 'Have you read any good books lately?'},\n",
       " {'Intention': 'None',\n",
       "  'Message': 'What do you think about the latest tech trends?'},\n",
       " {'Intention': 'None',\n",
       "  'Message': 'I tried a new recipe yesterday, it turned out great!'}]"
      ]
     },
     "execution_count": 81,
     "metadata": {},
     "output_type": "execute_result"
    }
   ],
   "source": [
    "none_related_messages[:5]"
   ]
  },
  {
   "cell_type": "code",
   "execution_count": 82,
   "metadata": {},
   "outputs": [],
   "source": [
    "add_messages(none_related_messages, file_name)"
   ]
  },
  {
   "cell_type": "code",
   "execution_count": null,
   "metadata": {},
   "outputs": [],
   "source": []
  }
 ],
 "metadata": {
  "kernelspec": {
   "display_name": "capstone_project",
   "language": "python",
   "name": "python3"
  },
  "language_info": {
   "codemirror_mode": {
    "name": "ipython",
    "version": 3
   },
   "file_extension": ".py",
   "mimetype": "text/x-python",
   "name": "python",
   "nbconvert_exporter": "python",
   "pygments_lexer": "ipython3",
   "version": "3.12.7"
  }
 },
 "nbformat": 4,
 "nbformat_minor": 2
}
