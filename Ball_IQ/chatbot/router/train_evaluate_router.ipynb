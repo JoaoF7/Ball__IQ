{
 "cells": [
  {
   "cell_type": "code",
   "execution_count": 1,
   "metadata": {},
   "outputs": [],
   "source": [
    "from semantic_router import Route\n",
    "from semantic_router.encoders import OpenAIEncoder, HuggingFaceEncoder\n",
    "from semantic_router import RouteLayer\n",
    "import pandas as pd\n",
    "import os\n",
    "from dotenv import load_dotenv\n"
   ]
  },
  {
   "cell_type": "code",
   "execution_count": 2,
   "metadata": {},
   "outputs": [],
   "source": [
    "# Load the OpenAI API key from the .env file\n",
    "load_dotenv()\n",
    "api_key = os.getenv(\"api_key\")\n",
    "if api_key is None:\n",
    "    raise ValueError(\"The api_key environment variable is not set.\")"
   ]
  },
  {
   "cell_type": "code",
   "execution_count": 3,
   "metadata": {},
   "outputs": [],
   "source": [
    "# Load the dataframes json files\n",
    "df_synthetic = pd.read_json(\"synthetic_intetions.json\")\n",
    "\n",
    "X_syn = df_synthetic[['Id','Message']]\n",
    "y_syn = df_synthetic['Intention'].to_list()"
   ]
  },
  {
   "cell_type": "code",
   "execution_count": 4,
   "metadata": {},
   "outputs": [],
   "source": [
    "# Load the dataframes json files\n",
    "df_test = pd.read_json(\"new_intentions.json\")\n",
    "\n",
    "X_test = df_test[['Id','Message']]\n",
    "y_test = df_test['Intention'].to_list()"
   ]
  },
  {
   "cell_type": "code",
   "execution_count": 5,
   "metadata": {},
   "outputs": [],
   "source": [
    "X_final = X_syn\n",
    "y_final = y_syn"
   ]
  },
  {
   "cell_type": "code",
   "execution_count": 6,
   "metadata": {},
   "outputs": [],
   "source": [
    "# Replace \"None\" with None\n",
    "y_final = [None if i == \"None\" else i for i in y_final]\n",
    "y_test = [None if i == \"None\" else i for i in y_test]"
   ]
  },
  {
   "cell_type": "code",
   "execution_count": 7,
   "metadata": {},
   "outputs": [
    {
     "data": {
      "text/html": [
       "<div>\n",
       "<style scoped>\n",
       "    .dataframe tbody tr th:only-of-type {\n",
       "        vertical-align: middle;\n",
       "    }\n",
       "\n",
       "    .dataframe tbody tr th {\n",
       "        vertical-align: top;\n",
       "    }\n",
       "\n",
       "    .dataframe thead th {\n",
       "        text-align: right;\n",
       "    }\n",
       "</style>\n",
       "<table border=\"1\" class=\"dataframe\">\n",
       "  <thead>\n",
       "    <tr style=\"text-align: right;\">\n",
       "      <th></th>\n",
       "      <th>Id</th>\n",
       "      <th>Message</th>\n",
       "    </tr>\n",
       "  </thead>\n",
       "  <tbody>\n",
       "    <tr>\n",
       "      <th>0</th>\n",
       "      <td>1</td>\n",
       "      <td>What are the upcoming fixtures for Kane?</td>\n",
       "    </tr>\n",
       "    <tr>\n",
       "      <th>1</th>\n",
       "      <td>2</td>\n",
       "      <td>Can you tell me who Salah plays next?</td>\n",
       "    </tr>\n",
       "    <tr>\n",
       "      <th>2</th>\n",
       "      <td>3</td>\n",
       "      <td>When is Son's next match?</td>\n",
       "    </tr>\n",
       "    <tr>\n",
       "      <th>3</th>\n",
       "      <td>4</td>\n",
       "      <td>What fixtures does Bruno have in week 5?</td>\n",
       "    </tr>\n",
       "    <tr>\n",
       "      <th>4</th>\n",
       "      <td>5</td>\n",
       "      <td>Who does Rashford face in the next game?</td>\n",
       "    </tr>\n",
       "    <tr>\n",
       "      <th>...</th>\n",
       "      <td>...</td>\n",
       "      <td>...</td>\n",
       "    </tr>\n",
       "    <tr>\n",
       "      <th>478</th>\n",
       "      <td>479</td>\n",
       "      <td>I find it fascinating how different cultures c...</td>\n",
       "    </tr>\n",
       "    <tr>\n",
       "      <th>479</th>\n",
       "      <td>480</td>\n",
       "      <td>Do you prefer the beach or the mountains for v...</td>\n",
       "    </tr>\n",
       "    <tr>\n",
       "      <th>480</th>\n",
       "      <td>481</td>\n",
       "      <td>I love trying out new restaurants in town.</td>\n",
       "    </tr>\n",
       "    <tr>\n",
       "      <th>481</th>\n",
       "      <td>482</td>\n",
       "      <td>What's your favorite way to spend a weekend?</td>\n",
       "    </tr>\n",
       "    <tr>\n",
       "      <th>482</th>\n",
       "      <td>483</td>\n",
       "      <td>I enjoy stargazing; it's so peaceful at night.</td>\n",
       "    </tr>\n",
       "  </tbody>\n",
       "</table>\n",
       "<p>483 rows × 2 columns</p>\n",
       "</div>"
      ],
      "text/plain": [
       "      Id                                            Message\n",
       "0      1           What are the upcoming fixtures for Kane?\n",
       "1      2              Can you tell me who Salah plays next?\n",
       "2      3                          When is Son's next match?\n",
       "3      4           What fixtures does Bruno have in week 5?\n",
       "4      5           Who does Rashford face in the next game?\n",
       "..   ...                                                ...\n",
       "478  479  I find it fascinating how different cultures c...\n",
       "479  480  Do you prefer the beach or the mountains for v...\n",
       "480  481         I love trying out new restaurants in town.\n",
       "481  482       What's your favorite way to spend a weekend?\n",
       "482  483     I enjoy stargazing; it's so peaceful at night.\n",
       "\n",
       "[483 rows x 2 columns]"
      ]
     },
     "execution_count": 7,
     "metadata": {},
     "output_type": "execute_result"
    }
   ],
   "source": [
    "X_final"
   ]
  },
  {
   "cell_type": "code",
   "execution_count": 8,
   "metadata": {},
   "outputs": [
    {
     "data": {
      "text/plain": [
       "['check_upcoming_fixtures',\n",
       " 'check_upcoming_fixtures',\n",
       " 'check_upcoming_fixtures',\n",
       " 'check_upcoming_fixtures',\n",
       " 'check_upcoming_fixtures',\n",
       " 'check_upcoming_fixtures',\n",
       " 'check_upcoming_fixtures',\n",
       " 'check_upcoming_fixtures',\n",
       " 'check_upcoming_fixtures',\n",
       " 'check_upcoming_fixtures',\n",
       " 'check_upcoming_fixtures',\n",
       " 'check_upcoming_fixtures',\n",
       " 'check_upcoming_fixtures',\n",
       " 'check_upcoming_fixtures',\n",
       " 'check_upcoming_fixtures',\n",
       " 'check_upcoming_fixtures',\n",
       " 'check_upcoming_fixtures',\n",
       " 'check_upcoming_fixtures',\n",
       " 'check_upcoming_fixtures',\n",
       " 'check_upcoming_fixtures',\n",
       " 'check_upcoming_fixtures',\n",
       " 'check_upcoming_fixtures',\n",
       " 'check_upcoming_fixtures',\n",
       " 'check_upcoming_fixtures',\n",
       " 'check_upcoming_fixtures',\n",
       " 'check_upcoming_fixtures',\n",
       " 'check_upcoming_fixtures',\n",
       " 'check_upcoming_fixtures',\n",
       " 'check_upcoming_fixtures',\n",
       " 'check_upcoming_fixtures',\n",
       " 'check_upcoming_fixtures',\n",
       " 'check_upcoming_fixtures',\n",
       " 'check_upcoming_fixtures',\n",
       " 'check_upcoming_fixtures',\n",
       " 'check_upcoming_fixtures',\n",
       " 'check_upcoming_fixtures',\n",
       " 'check_upcoming_fixtures',\n",
       " 'check_upcoming_fixtures',\n",
       " 'check_upcoming_fixtures',\n",
       " 'check_upcoming_fixtures',\n",
       " 'check_upcoming_fixtures',\n",
       " 'check_upcoming_fixtures',\n",
       " 'check_upcoming_fixtures',\n",
       " 'check_upcoming_fixtures',\n",
       " 'check_upcoming_fixtures',\n",
       " 'check_upcoming_fixtures',\n",
       " 'check_upcoming_fixtures',\n",
       " 'check_upcoming_fixtures',\n",
       " 'check_upcoming_fixtures',\n",
       " 'check_upcoming_fixtures',\n",
       " 'check_upcoming_fixtures',\n",
       " 'check_upcoming_fixtures',\n",
       " 'check_upcoming_fixtures',\n",
       " 'check_upcoming_fixtures',\n",
       " 'check_upcoming_fixtures',\n",
       " 'check_upcoming_fixtures',\n",
       " 'optimize_lineup',\n",
       " 'optimize_lineup',\n",
       " 'optimize_lineup',\n",
       " 'optimize_lineup',\n",
       " 'optimize_lineup',\n",
       " 'optimize_lineup',\n",
       " 'optimize_lineup',\n",
       " 'optimize_lineup',\n",
       " 'optimize_lineup',\n",
       " 'optimize_lineup',\n",
       " 'optimize_lineup',\n",
       " 'optimize_lineup',\n",
       " 'optimize_lineup',\n",
       " 'optimize_lineup',\n",
       " 'optimize_lineup',\n",
       " 'optimize_lineup',\n",
       " 'optimize_lineup',\n",
       " 'optimize_lineup',\n",
       " 'optimize_lineup',\n",
       " 'optimize_lineup',\n",
       " 'optimize_lineup',\n",
       " 'optimize_lineup',\n",
       " 'optimize_lineup',\n",
       " 'optimize_lineup',\n",
       " 'optimize_lineup',\n",
       " 'optimize_lineup',\n",
       " 'optimize_lineup',\n",
       " 'optimize_lineup',\n",
       " 'optimize_lineup',\n",
       " 'optimize_lineup',\n",
       " 'optimize_lineup',\n",
       " 'optimize_lineup',\n",
       " 'optimize_lineup',\n",
       " 'optimize_lineup',\n",
       " 'optimize_lineup',\n",
       " 'optimize_lineup',\n",
       " 'optimize_lineup',\n",
       " 'optimize_lineup',\n",
       " 'optimize_lineup',\n",
       " 'optimize_lineup',\n",
       " 'optimize_lineup',\n",
       " 'optimize_lineup',\n",
       " 'optimize_lineup',\n",
       " 'optimize_lineup',\n",
       " 'optimize_lineup',\n",
       " 'optimize_lineup',\n",
       " 'optimize_lineup',\n",
       " 'optimize_lineup',\n",
       " 'optimize_lineup',\n",
       " 'optimize_lineup',\n",
       " 'optimize_lineup',\n",
       " 'optimize_lineup',\n",
       " 'optimize_lineup',\n",
       " 'putting_players_in_starting11',\n",
       " 'putting_players_in_starting11',\n",
       " 'putting_players_in_starting11',\n",
       " 'putting_players_in_starting11',\n",
       " 'putting_players_in_starting11',\n",
       " 'putting_players_in_starting11',\n",
       " 'putting_players_in_starting11',\n",
       " 'putting_players_in_starting11',\n",
       " 'putting_players_in_starting11',\n",
       " 'putting_players_in_starting11',\n",
       " 'putting_players_in_starting11',\n",
       " 'putting_players_in_starting11',\n",
       " 'putting_players_in_starting11',\n",
       " 'putting_players_in_starting11',\n",
       " 'putting_players_in_starting11',\n",
       " 'putting_players_in_starting11',\n",
       " 'putting_players_in_starting11',\n",
       " 'putting_players_in_starting11',\n",
       " 'putting_players_in_starting11',\n",
       " 'putting_players_in_starting11',\n",
       " 'putting_players_in_starting11',\n",
       " 'putting_players_in_starting11',\n",
       " 'putting_players_in_starting11',\n",
       " 'putting_players_in_starting11',\n",
       " 'putting_players_in_starting11',\n",
       " 'putting_players_in_starting11',\n",
       " 'putting_players_in_starting11',\n",
       " 'putting_players_in_starting11',\n",
       " 'putting_players_in_starting11',\n",
       " 'putting_players_in_starting11',\n",
       " 'putting_players_in_starting11',\n",
       " 'putting_players_in_starting11',\n",
       " 'putting_players_in_starting11',\n",
       " 'putting_players_in_starting11',\n",
       " 'putting_players_in_starting11',\n",
       " 'putting_players_in_starting11',\n",
       " 'putting_players_in_starting11',\n",
       " 'putting_players_in_starting11',\n",
       " 'putting_players_in_starting11',\n",
       " 'putting_players_in_starting11',\n",
       " 'putting_players_in_starting11',\n",
       " 'putting_players_in_starting11',\n",
       " 'putting_players_in_starting11',\n",
       " 'putting_players_in_starting11',\n",
       " 'putting_players_in_starting11',\n",
       " 'putting_players_in_starting11',\n",
       " 'putting_players_in_starting11',\n",
       " 'putting_players_in_starting11',\n",
       " 'putting_players_in_starting11',\n",
       " 'putting_players_in_starting11',\n",
       " 'putting_players_in_starting11',\n",
       " 'putting_players_in_starting11',\n",
       " 'putting_players_in_starting11',\n",
       " 'putting_players_in_starting11',\n",
       " 'putting_players_in_starting11',\n",
       " 'putting_players_in_starting11',\n",
       " 'putting_players_in_starting11',\n",
       " 'know_information_about_stats',\n",
       " 'know_information_about_stats',\n",
       " 'know_information_about_stats',\n",
       " 'know_information_about_stats',\n",
       " 'know_information_about_stats',\n",
       " 'know_information_about_stats',\n",
       " 'know_information_about_stats',\n",
       " 'know_information_about_stats',\n",
       " 'know_information_about_stats',\n",
       " 'know_information_about_stats',\n",
       " 'know_information_about_stats',\n",
       " 'know_information_about_stats',\n",
       " 'know_information_about_stats',\n",
       " 'know_information_about_stats',\n",
       " 'know_information_about_stats',\n",
       " 'know_information_about_stats',\n",
       " 'know_information_about_stats',\n",
       " 'know_information_about_stats',\n",
       " 'know_information_about_stats',\n",
       " 'know_information_about_stats',\n",
       " 'know_information_about_stats',\n",
       " 'know_information_about_stats',\n",
       " 'know_information_about_stats',\n",
       " 'know_information_about_stats',\n",
       " 'know_information_about_stats',\n",
       " 'know_information_about_stats',\n",
       " 'know_information_about_stats',\n",
       " 'know_information_about_stats',\n",
       " 'know_information_about_stats',\n",
       " 'know_information_about_stats',\n",
       " 'know_information_about_stats',\n",
       " 'know_information_about_stats',\n",
       " 'know_information_about_stats',\n",
       " 'know_information_about_stats',\n",
       " 'know_information_about_stats',\n",
       " 'know_information_about_stats',\n",
       " 'know_information_about_stats',\n",
       " 'know_information_about_stats',\n",
       " 'know_information_about_stats',\n",
       " 'know_information_about_stats',\n",
       " 'know_information_about_stats',\n",
       " 'know_information_about_stats',\n",
       " 'know_information_about_stats',\n",
       " 'know_information_about_stats',\n",
       " 'know_information_about_stats',\n",
       " 'know_information_about_stats',\n",
       " 'know_information_about_stats',\n",
       " 'know_information_about_stats',\n",
       " 'know_information_about_stats',\n",
       " 'know_information_about_stats',\n",
       " 'know_information_about_stats',\n",
       " 'know_information_about_stats',\n",
       " 'know_information_about_stats',\n",
       " 'recommend_players',\n",
       " 'recommend_players',\n",
       " 'recommend_players',\n",
       " 'recommend_players',\n",
       " 'recommend_players',\n",
       " 'recommend_players',\n",
       " 'recommend_players',\n",
       " 'recommend_players',\n",
       " 'recommend_players',\n",
       " 'recommend_players',\n",
       " 'recommend_players',\n",
       " 'recommend_players',\n",
       " 'recommend_players',\n",
       " 'recommend_players',\n",
       " 'recommend_players',\n",
       " 'recommend_players',\n",
       " 'recommend_players',\n",
       " 'recommend_players',\n",
       " 'recommend_players',\n",
       " 'recommend_players',\n",
       " 'recommend_players',\n",
       " 'recommend_players',\n",
       " 'recommend_players',\n",
       " 'recommend_players',\n",
       " 'recommend_players',\n",
       " 'recommend_players',\n",
       " 'recommend_players',\n",
       " 'recommend_players',\n",
       " 'recommend_players',\n",
       " 'recommend_players',\n",
       " 'recommend_players',\n",
       " 'recommend_players',\n",
       " 'recommend_players',\n",
       " 'recommend_players',\n",
       " 'recommend_players',\n",
       " 'recommend_players',\n",
       " 'recommend_players',\n",
       " 'recommend_players',\n",
       " 'recommend_players',\n",
       " 'recommend_players',\n",
       " 'recommend_players',\n",
       " 'recommend_players',\n",
       " 'recommend_players',\n",
       " 'recommend_players',\n",
       " 'recommend_players',\n",
       " 'recommend_players',\n",
       " 'recommend_players',\n",
       " 'recommend_players',\n",
       " 'recommend_players',\n",
       " 'recommend_players',\n",
       " 'recommend_players',\n",
       " 'transfer_players',\n",
       " 'transfer_players',\n",
       " 'transfer_players',\n",
       " 'transfer_players',\n",
       " 'transfer_players',\n",
       " 'transfer_players',\n",
       " 'transfer_players',\n",
       " 'transfer_players',\n",
       " 'transfer_players',\n",
       " 'transfer_players',\n",
       " 'transfer_players',\n",
       " 'transfer_players',\n",
       " 'transfer_players',\n",
       " 'transfer_players',\n",
       " 'transfer_players',\n",
       " 'transfer_players',\n",
       " 'transfer_players',\n",
       " 'transfer_players',\n",
       " 'transfer_players',\n",
       " 'transfer_players',\n",
       " 'transfer_players',\n",
       " 'transfer_players',\n",
       " 'transfer_players',\n",
       " 'transfer_players',\n",
       " 'transfer_players',\n",
       " 'transfer_players',\n",
       " 'transfer_players',\n",
       " 'transfer_players',\n",
       " 'transfer_players',\n",
       " 'transfer_players',\n",
       " 'transfer_players',\n",
       " 'transfer_players',\n",
       " 'transfer_players',\n",
       " 'transfer_players',\n",
       " 'transfer_players',\n",
       " 'transfer_players',\n",
       " 'transfer_players',\n",
       " 'transfer_players',\n",
       " 'transfer_players',\n",
       " 'transfer_players',\n",
       " 'transfer_players',\n",
       " 'transfer_players',\n",
       " 'transfer_players',\n",
       " 'transfer_players',\n",
       " 'transfer_players',\n",
       " 'transfer_players',\n",
       " 'transfer_players',\n",
       " 'transfer_players',\n",
       " 'transfer_players',\n",
       " 'transfer_players',\n",
       " 'transfer_players',\n",
       " 'transfer_players',\n",
       " 'view_or_update_team_points',\n",
       " 'view_or_update_team_points',\n",
       " 'view_or_update_team_points',\n",
       " 'view_or_update_team_points',\n",
       " 'view_or_update_team_points',\n",
       " 'view_or_update_team_points',\n",
       " 'view_or_update_team_points',\n",
       " 'view_or_update_team_points',\n",
       " 'view_or_update_team_points',\n",
       " 'view_or_update_team_points',\n",
       " 'view_or_update_team_points',\n",
       " 'view_or_update_team_points',\n",
       " 'view_or_update_team_points',\n",
       " 'view_or_update_team_points',\n",
       " 'view_or_update_team_points',\n",
       " 'view_or_update_team_points',\n",
       " 'view_or_update_team_points',\n",
       " 'view_or_update_team_points',\n",
       " 'view_or_update_team_points',\n",
       " 'view_or_update_team_points',\n",
       " 'view_or_update_team_points',\n",
       " 'view_or_update_team_points',\n",
       " 'view_or_update_team_points',\n",
       " 'view_or_update_team_points',\n",
       " 'view_or_update_team_points',\n",
       " 'view_or_update_team_points',\n",
       " 'view_or_update_team_points',\n",
       " 'view_or_update_team_points',\n",
       " 'view_or_update_team_points',\n",
       " 'view_or_update_team_points',\n",
       " 'view_or_update_team_points',\n",
       " 'view_or_update_team_points',\n",
       " 'view_or_update_team_points',\n",
       " 'view_or_update_team_points',\n",
       " 'view_or_update_team_points',\n",
       " 'view_or_update_team_points',\n",
       " 'view_or_update_team_points',\n",
       " 'view_or_update_team_points',\n",
       " 'view_or_update_team_points',\n",
       " 'view_or_update_team_points',\n",
       " 'view_or_update_team_points',\n",
       " 'view_or_update_team_points',\n",
       " 'view_or_update_team_points',\n",
       " 'view_or_update_team_points',\n",
       " 'view_or_update_team_points',\n",
       " 'view_or_update_team_points',\n",
       " 'view_or_update_team_points',\n",
       " 'view_or_update_team_points',\n",
       " 'view_or_update_team_points',\n",
       " 'view_or_update_team_points',\n",
       " 'view_or_update_team_points',\n",
       " 'view_or_update_team_points',\n",
       " 'view_or_update_team_points',\n",
       " 'view_or_update_team_points',\n",
       " 'view_players_stats',\n",
       " 'view_players_stats',\n",
       " 'view_players_stats',\n",
       " 'view_players_stats',\n",
       " 'view_players_stats',\n",
       " 'view_players_stats',\n",
       " 'view_players_stats',\n",
       " 'view_players_stats',\n",
       " 'view_players_stats',\n",
       " 'view_players_stats',\n",
       " 'view_players_stats',\n",
       " 'view_players_stats',\n",
       " 'view_players_stats',\n",
       " 'view_players_stats',\n",
       " 'view_players_stats',\n",
       " 'view_players_stats',\n",
       " 'view_players_stats',\n",
       " 'view_players_stats',\n",
       " 'view_players_stats',\n",
       " 'view_players_stats',\n",
       " 'view_players_stats',\n",
       " 'view_players_stats',\n",
       " 'view_players_stats',\n",
       " 'view_players_stats',\n",
       " 'view_players_stats',\n",
       " 'view_players_stats',\n",
       " 'view_players_stats',\n",
       " 'view_players_stats',\n",
       " 'view_players_stats',\n",
       " 'view_players_stats',\n",
       " 'view_players_stats',\n",
       " 'view_players_stats',\n",
       " 'view_players_stats',\n",
       " 'view_players_stats',\n",
       " 'view_players_stats',\n",
       " 'view_players_stats',\n",
       " 'view_players_stats',\n",
       " 'view_players_stats',\n",
       " 'view_players_stats',\n",
       " 'view_players_stats',\n",
       " 'view_players_stats',\n",
       " 'view_players_stats',\n",
       " 'view_players_stats',\n",
       " 'view_players_stats',\n",
       " 'view_players_stats',\n",
       " 'view_players_stats',\n",
       " 'view_players_stats',\n",
       " 'view_players_stats',\n",
       " 'view_players_stats',\n",
       " 'view_players_stats',\n",
       " 'view_players_stats',\n",
       " 'view_players_stats',\n",
       " 'view_players_stats',\n",
       " 'view_players_stats',\n",
       " 'view_players_stats',\n",
       " 'view_players_stats',\n",
       " 'chit_chat_about_company',\n",
       " 'chit_chat_about_company',\n",
       " 'chit_chat_about_company',\n",
       " 'chit_chat_about_company',\n",
       " 'chit_chat_about_company',\n",
       " 'chit_chat_about_company',\n",
       " 'chit_chat_about_company',\n",
       " 'chit_chat_about_company',\n",
       " 'chit_chat_about_company',\n",
       " 'chit_chat_about_company',\n",
       " 'chit_chat_about_company',\n",
       " 'chit_chat_about_company',\n",
       " 'chit_chat_about_company',\n",
       " 'chit_chat_about_company',\n",
       " 'chit_chat_about_company',\n",
       " 'chit_chat_about_company',\n",
       " 'chit_chat_about_company',\n",
       " 'chit_chat_about_company',\n",
       " 'chit_chat_about_company',\n",
       " 'chit_chat_about_company',\n",
       " 'chit_chat_about_company',\n",
       " 'chit_chat_about_company',\n",
       " 'chit_chat_about_company',\n",
       " 'chit_chat_about_company',\n",
       " 'chit_chat_about_company',\n",
       " None,\n",
       " None,\n",
       " None,\n",
       " None,\n",
       " None,\n",
       " None,\n",
       " None,\n",
       " None,\n",
       " None,\n",
       " None,\n",
       " None,\n",
       " None,\n",
       " None,\n",
       " None,\n",
       " None,\n",
       " None,\n",
       " None,\n",
       " None,\n",
       " None,\n",
       " None,\n",
       " None,\n",
       " None,\n",
       " None,\n",
       " None,\n",
       " None,\n",
       " None]"
      ]
     },
     "execution_count": 8,
     "metadata": {},
     "output_type": "execute_result"
    }
   ],
   "source": [
    "y_final"
   ]
  },
  {
   "cell_type": "code",
   "execution_count": 9,
   "metadata": {},
   "outputs": [],
   "source": [
    "upcoming_fixtures_messages = []\n",
    "optimize_lineup_messages = []\n",
    "putting_player_in_starting11_messages = []\n",
    "know_information_about_stats_messages = []\n",
    "recommend_players_messages = []\n",
    "transfer_players_messages = []\n",
    "view_or_update_team_points_messages = []\n",
    "view_players_stats_messages = []\n",
    "chit_chat_about_company_messages = []\n",
    "\n",
    "for message, label in zip(X_final[\"Message\"], y_final):\n",
    "    if label == 'check_upcoming_fixtures':\n",
    "        upcoming_fixtures_messages.append(message)\n",
    "    elif label == 'optimize_lineup':\n",
    "        optimize_lineup_messages.append(message)\n",
    "    elif label == 'putting_players_in_starting11':\n",
    "        putting_player_in_starting11_messages.append(message)\n",
    "    elif label == 'know_information_about_stats':\n",
    "        know_information_about_stats_messages.append(message)\n",
    "    elif label == 'transfer_players':\n",
    "        transfer_players_messages.append(message)\n",
    "    elif label == 'recommend_players':\n",
    "        recommend_players_messages.append(message)\n",
    "    elif label == 'view_or_update_team_points':\n",
    "        view_or_update_team_points_messages.append(message)\n",
    "    elif label == 'view_players_stats':\n",
    "        view_players_stats_messages.append(message)\n",
    "    elif label == 'chit_chat_about_company':\n",
    "        chit_chat_about_company_messages.append(message)\n",
    "\n",
    "upcoming_fixtures = Route(\n",
    "    name=\"check_upcoming_fixtures\",\n",
    "    description=\"The user wants to know the next fixtures of a certain player.\",\n",
    "    utterances=upcoming_fixtures_messages,\n",
    ")\n",
    "\n",
    "optimize_lineup = Route(\n",
    "    name=\"optimize_lineup\",\n",
    "    description=\"The user wants to optimize his team for a certain tactic by taking the most advantage of the players on his team.\",\n",
    "    utterances=optimize_lineup_messages,\n",
    ")\n",
    "\n",
    "putting_players_in_starting11 = Route(\n",
    "    name=\"putting_players_in_starting11\",\n",
    "    description=\"The user is interested in changing a player into or out their starting eleven.\",\n",
    "    utterances=putting_player_in_starting11_messages,\n",
    ")\n",
    "\n",
    "know_information_about_stats = Route(\n",
    "    name=\"know_information_about_stats\",\n",
    "    description=\"The user wants to get more information about some football stat or about how that stat influences a player's points\",\n",
    "    utterances=know_information_about_stats_messages,\n",
    ")\n",
    "\n",
    "transfer_players = Route(\n",
    "    name=\"transfer_players\",\n",
    "    description=\"The user wants to transfer a player out of his team and another into the team, or simply just bring a player to his team\",\n",
    "    utterances=transfer_players_messages,\n",
    ")\n",
    "\n",
    "recommend_players = Route(\n",
    "    name=\"recommend_players\",\n",
    "    description=\"The user wants to get players recommended to him based on a budget.\",\n",
    "    utterances=recommend_players_messages,\n",
    ")\n",
    "\n",
    "view_or_update_team_points = Route(\n",
    "    name=\"view_or_update_team_points\",\n",
    "    description=\"The user wants to know either check the points he has or to update them to a new number.\",\n",
    "    utterances=view_or_update_team_points_messages,\n",
    ")\n",
    "\n",
    "view_players_stats = Route(\n",
    "    name=\"view_players_stats\",\n",
    "    description=\"The user is interested in getting to know information about players and how they are doing based on stats.\",\n",
    "    utterances=view_players_stats_messages,\n",
    ")\n",
    "\n",
    "chit_chat_about_company = Route(\n",
    "    name=\"chit_chat_about_company\",\n",
    "    description=\"The user is interested in knowing more about the company Ball IQ.\",\n",
    "    utterances=chit_chat_about_company_messages,\n",
    ")\n"
   ]
  },
  {
   "cell_type": "code",
   "execution_count": 10,
   "metadata": {},
   "outputs": [],
   "source": [
    "routes = [upcoming_fixtures, optimize_lineup, putting_players_in_starting11, know_information_about_stats, \n",
    "        transfer_players, recommend_players, view_or_update_team_points, view_players_stats, chit_chat_about_company]"
   ]
  },
  {
   "cell_type": "code",
   "execution_count": 11,
   "metadata": {},
   "outputs": [
    {
     "data": {
      "text/plain": [
       "[Route(name='check_upcoming_fixtures', utterances=['What are the upcoming fixtures for Kane?', 'Can you tell me who Salah plays next?', \"When is Son's next match?\", 'What fixtures does Bruno have in week 5?', 'Who does Rashford face in the next game?', 'Check upcoming matches for Haaland this week.', 'What are the fixtures for Mount in week 3?', 'Who is Grealish playing against next?', 'Can you give me the next game for Vardy?', 'What are the upcoming fixtures for my team?', 'When does Almiron play next?', 'Tell me the next match for Foden.', 'What fixtures does Toney have coming up?', 'Who does Maddison play against in week 7?', 'Check the upcoming fixtures for my players.', 'What is the next game for Dier?', 'Can you tell me the fixtures for Saka?', 'Who is playing next week for my team?', 'What are the upcoming matches for Jota?', 'When does Mitrovic play next?', 'What fixtures does Sterling have in week 10?', 'Who does Cucurella face in the next match?', 'Check the next game for Nketiah.', 'What are the fixtures for my players this week?', 'When is the next match for Kepa?', 'Who does Bowen play against next?', 'Can you tell me the upcoming fixtures for my squad?', 'What is the next game for James?', 'Who is playing next for my fantasy team?', 'What fixtures does Watkins have coming up?', 'When does Lloris play next?', 'What are the upcoming matches for my players?', 'Who does Dias face in the next game?', 'Check the next match for Pulisic.', 'What are the fixtures for my team in week 12?', 'When is the next game for Ederson?', 'Who does Rashica play against next?', 'Can you tell me the upcoming fixtures for my players?', 'What is the next match for Kante?', 'Who is playing next for my fantasy squad?', 'What fixtures does Jesus have in week 15?', 'When does Damsgaard play next?', 'What are the upcoming matches for my team this week?', 'Who does Romero face in the next game?', 'Check the next game for Sessegnon.', 'What are the fixtures for my players in week 20?', 'When is the next match for Alisson?', 'Who does Raphinha play against next?', 'Can you tell me the upcoming fixtures for my team?', 'What is the next game for Kovačić?', 'Who is playing next for my fantasy players?', 'What fixtures does Antonio have coming up?', 'When does Mings play next?', 'What are the upcoming matches for my squad?', 'Who does Ake face in the next game?', 'Check the next match for Dier.'], description='The user wants to know the next fixtures of a certain player.', function_schemas=None, llm=None, score_threshold=None, metadata={}),\n",
       " Route(name='optimize_lineup', utterances=['What’s the best 4-3-3 lineup I can use?', 'Help me optimize my 4/3/3 formation.', 'I need to set up a 3-5-2 lineup.', 'Can you suggest a strong 4-4-2 tactic?', 'What players should I choose for a 4-3-3?', 'I want to optimize my lineup with 5 defenders.', 'How can I improve my 4-2-3-1 setup?', 'What’s the ideal formation for my team?', 'I’m thinking of a 3-4-3, any suggestions?', 'Can you help me with a 4-5-1 strategy?', 'What’s the best way to arrange my midfielders?', 'I need to optimize my lineup with 2 forwards.', 'What players fit well in a 4-3-3 formation?', 'Can you recommend a solid 4-2-2-2 setup?', 'How do I balance my 3-5-2 lineup?', 'What’s the best tactic for my current players?', 'I want to use a 4-1-4-1, any tips?', 'How many defenders should I have in my lineup?', 'What’s the best way to set up my forwards?', 'Can you help me with a 4-3-1-2 formation?', 'What’s the optimal number of midfielders for my team?', 'I’m using a 4-4-1-1, how can I optimize it?', 'What players should I consider for a 3-4-3?', 'Can you suggest a good 4-3-3 lineup?', 'How do I optimize my 4-2-3-1 formation?', 'What’s the best way to arrange my defenders?', 'I need help with a 3-5-2 lineup.', 'What’s the ideal number of forwards for my tactic?', 'Can you help me optimize my 4-4-2 setup?', 'What players should I include in my 4-3-3?', 'I want to use a 4-2-2-2, any recommendations?', 'How can I improve my 3-4-3 formation?', 'What’s the best way to set up my midfielders?', 'I’m thinking of a 4-3-3, what players should I choose?', 'Can you help me with a 4-1-4-1 strategy?', 'What’s the optimal formation for my current players?', 'How many midfielders should I have in my lineup?', 'What’s the best tactic for my team?', 'Can you suggest a strong 4-2-3-1 lineup?', 'How do I balance my 3-5-2 setup?', 'What’s the best way to arrange my forwards?', 'I need to optimize my lineup with 3 defenders.', 'What players fit well in a 4-4-2 formation?', 'Can you recommend a solid 4-3-1-2 setup?', 'How can I improve my 4-2-2-2 lineup?', 'What’s the best way to set up my defenders?', 'I want to use a 4-3-3, any tips?', 'What’s the ideal number of forwards for my tactic?', 'Can you help me optimize my 4-1-4-1 formation?', 'What players should I consider for a 3-4-3?', 'Can you suggest a good 4-2-3-1 lineup?', 'How do I optimize my 4-4-2 setup?', 'What’s the best way to arrange my midfielders?'], description='The user wants to optimize his team for a certain tactic by taking the most advantage of the players on his team.', function_schemas=None, llm=None, score_threshold=None, metadata={}),\n",
       " Route(name='putting_players_in_starting11', utterances=['I want to put Kane in my starting eleven.', 'Please remove Salah from my starting lineup.', 'Can I drop Mount from my starting 11?', 'I need to bench Rashford this week.', 'Add Haaland to my starting lineup.', 'Take out Bruno from my starting eleven.', 'I want to include Son in my starting 11.', 'Please drop Alisson from my starting lineup.', 'Can you put Foden in my starting eleven?', 'Remove Jota from my starting lineup.', 'I want to bench Vardy for this match.', 'Add Grealish to my starting eleven.', 'Please take out Dier from my starting lineup.', 'I need to include Sterling in my starting 11.', 'Drop Jimenez from my starting eleven.', 'Can you put Saka in my starting lineup?', 'I want to remove Ederson from my starting eleven.', 'Add Maddison to my starting lineup.', 'Please bench Pulisic for this week.', 'I want to include Toney in my starting eleven.', 'Take out Cancelo from my starting lineup.', 'Can you drop Kante from my starting eleven?', 'I need to put Mount in my starting lineup.', 'Remove Son from my starting eleven.', 'Add Nketiah to my starting lineup.', 'Please take out Maguire from my starting eleven.', 'I want to bench Daka this week.', 'Put Bowen in my starting eleven.', 'Drop Richarlison from my starting lineup.', 'Can you include Raphinha in my starting eleven?', 'I want to remove Lloris from my starting lineup.', 'Add Jesus to my starting eleven.', 'Please bench Chilwell for this match.', 'I need to drop Kepa from my starting lineup.', 'Put Neto in my starting eleven.', 'Take out Cresswell from my starting lineup.', 'Can you add Watkins to my starting eleven?', 'I want to remove Fofana from my starting lineup.', 'Add Pereira to my starting eleven.', 'Please drop Sessegnon from my starting lineup.', 'I want to bench Zaha this week.', 'Put Isak in my starting eleven.', 'Remove Mings from my starting lineup.', 'Can you include Dier in my starting eleven?', 'I want to take out Kante from my starting lineup.', 'Add Trossard to my starting eleven.', 'Please bench Ake for this match.', 'I need to drop Laca from my starting lineup.', 'Put Cucurella in my starting eleven.', 'Take out Dier from my starting lineup.', 'Can you add Gallagher to my starting eleven?', 'I want to remove Ramsdale from my starting lineup.', 'Add Kulu to my starting eleven.', 'Please drop Benrahma from my starting lineup.', 'I want to bench Antonio this week.', 'Put Neto in my starting eleven.', 'Remove Shaw from my starting lineup.'], description='The user is interested in changing a player into or out their starting eleven.', function_schemas=None, llm=None, score_threshold=None, metadata={}),\n",
       " Route(name='know_information_about_stats', utterances=['What are the points awarded for a clean sheet?', 'How many points do I get for an assist?', 'Can you explain how goals are calculated in fantasy?', 'What stats should I focus on for my players?', 'How is a penalty save scored in fantasy points?', 'What does a yellow card do to player points?', 'How are bonus points awarded in the Premier League?', 'What is the fantasy point value for a goal?', 'How do I calculate total points for my team?', 'What stats are most important for defenders?', 'How do injuries affect player stats in fantasy?', 'What is the impact of a red card on points?', 'How are player stats updated during the season?', \"What does 'xG' mean in football stats?\", \"How do I find out a player's average points?\", \"What is the significance of a player's form?\", 'How are player stats compared in fantasy leagues?', \"What does 'clean sheet' mean for goalkeepers?\", 'How do substitutions affect player points?', 'What are the key stats for midfielders?', \"How is a player's performance rated in fantasy?\", \"What does 'shots on target' indicate for players?\", \"How do I interpret a player's heat map?\", 'What is the role of expected goals in fantasy?', \"How do I check a player's historical stats?\", 'What are the most common stats tracked in fantasy?', \"How do I analyze a player's performance over time?\", \"What does 'goal involvement' mean in player stats?\", 'How are assists calculated in fantasy football?', 'What is the importance of player fitness stats?', \"How do I find out about a player's injury history?\", \"What does 'minutes played' mean for fantasy points?\", 'How are player stats affected by match location?', \"What is the impact of a player's position on stats?\", \"How do I evaluate a player's consistency in scoring?\", \"What does 'conversion rate' mean in football stats?\", 'How are player stats affected by team performance?', \"What is the significance of a player's passing accuracy?\", \"How do I interpret a player's fantasy points breakdown?\", \"What does 'defensive contributions' mean for defenders?\", 'How are player stats affected by weather conditions?', \"What is the role of 'key passes' in fantasy scoring?\", \"How do I find out about a player's disciplinary record?\", \"What does 'goalkeeper saves' contribute to fantasy points?\", \"How do I assess a player's potential based on stats?\", \"What is the relevance of 'fouls committed' in fantasy?\", 'How do I track player stats throughout the season?', \"What does 'expected assists' mean in player analysis?\", 'How do I compare players based on their stats?', \"What is the impact of a player's age on performance?\", \"How do I understand a player's overall contribution?\", \"What does 'goal contributions' mean in fantasy terms?\", 'How are player stats visualized in fantasy platforms?'], description=\"The user wants to get more information about some football stat or about how that stat influences a player's points\", function_schemas=None, llm=None, score_threshold=None, metadata={}),\n",
       " Route(name='transfer_players', utterances=['I want to transfer out Kane and bring in Salah.', 'Please add Haaland to my team.', 'Transfer out Bruno and replace him with Son.', 'I’d like to add Rashford to my squad.', 'Remove Mount and get in Foden.', 'Can I transfer out Vardy for Nunez?', 'I want to add Almiron to my lineup.', 'Swap out Grealish for Saka.', 'Please transfer out Dier and bring in Dias.', 'Add Toney to my team.', 'I want to replace Sterling with Maddison.', 'Transfer out Jesus and get in Watkins.', 'Please add Kante to my squad.', 'I’d like to swap out Cancelo for Alexander-Arnold.', 'Remove Pulisic and bring in Zaha.', 'Can I transfer out Mings for Coady?', 'I want to add Bowen to my team.', 'Swap out Jimenez for Isak.', 'Please transfer out Raphinha and get in Grealish.', 'Add Kulusevski to my lineup.', 'I want to replace Daka with Wilson.', 'Transfer out Lloris and bring in Ederson.', 'Please add Maddison to my squad.', 'I’d like to swap out Foden for Rashford.', 'Remove Ings and get in Broja.', 'Can I transfer out Kepa for Ramsdale?', 'I want to add Saka to my team.', 'Swap out Cresswell for Shaw.', 'Please transfer out Jota and bring in Mount.', 'Add Neto to my squad.', 'I want to replace Dier with Gabriel.', 'Transfer out Son and get in Bruno.', 'Please add Trossard to my lineup.', 'I’d like to swap out Alisson for De Gea.', 'Remove Richarlison and bring in Antonio.', 'Can I transfer out Laporte for Stones?', 'I want to add Pereira to my team.', 'Swap out Kante for Gallagher.', 'Please transfer out Saka and get in Rashford.', 'Add Wilson to my squad.', 'I want to replace Foden with Grealish.', 'Transfer out Daka and bring in Nunez.', 'Please add Toney to my lineup.', 'I’d like to swap out Ederson for Lloris.', 'Remove Mount and get in Bruno.', 'Can I transfer out Dias for Cancelo?', 'I want to add Almiron to my team.', 'Swap out Jimenez for Isak.', 'Please transfer out Kepa and bring in Ramsdale.', 'Add Bowen to my squad.', 'I want to replace Sterling with Maddison.', 'Transfer out Jesus and get in Watkins.'], description='The user wants to transfer a player out of his team and another into the team, or simply just bring a player to his team', function_schemas=None, llm=None, score_threshold=None, metadata={}),\n",
       " Route(name='recommend_players', utterances=['Recommend players for $50, I need a midfielder.', 'Looking for players under €80, no Salah or Kane.', 'Can you suggest players for $30? I need a defender.', 'Please recommend players within $60, excluding Bruno.', 'I have a budget of $45, need a striker.', \"Suggest players for €70, I don't want Son.\", 'Who can I get for $20? I need a goalkeeper.', 'Recommend players under $90, no Rashford.', 'Looking for a midfielder, budget is $55.', 'Can you suggest players for €65, excluding Haaland?', 'I need a defender for $40, any recommendations?', \"Please recommend players for $75, I don't want Sterling.\", 'Suggest players under €50, I need a forward.', 'Who can I get for $25? I need a midfielder.', 'Recommend players for $80, excluding Mount.', 'Looking for players under €60, no Vardy.', 'Can you suggest players for $35? I need a striker.', 'Please recommend players for $90, excluding Grealish.', 'I have a budget of $50, need a defender.', \"Suggest players for €45, I don't want Bruno.\", 'Who can I get for $15? I need a goalkeeper.', 'Recommend players under $70, no Salah.', 'Looking for a midfielder, budget is €55.', 'Can you suggest players for $65, excluding Kane?', 'I need a striker for $30, any recommendations?', \"Please recommend players for €80, I don't want Son.\", 'Suggest players under $40, I need a forward.', 'Who can I get for $20? I need a midfielder.', 'Recommend players for $75, excluding Rashford.', 'Looking for players under €50, no Haaland.', 'Can you suggest players for $45? I need a defender.', 'Please recommend players for $90, excluding Mount.', 'I have a budget of $60, need a striker.', \"Suggest players for €70, I don't want Sterling.\", 'Who can I get for $25? I need a midfielder.', 'Recommend players for $50, excluding Grealish.', 'Looking for players under €80, no Vardy.', 'Can you suggest players for $35? I need a goalkeeper.', 'Please recommend players for $60, excluding Bruno.', 'I need a defender for $40, any recommendations?', \"Suggest players for €45, I don't want Salah.\", 'Who can I get for $15? I need a striker.', 'Recommend players under $70, no Kane.', 'Looking for a midfielder, budget is €55.', 'Can you suggest players for $65, excluding Son?', 'I need a forward for $30, any recommendations?', \"Please recommend players for €80, I don't want Rashford.\", 'Suggest players under $40, I need a defender.', 'Who can I get for $20? I need a midfielder.', 'Recommend players for $75, excluding Haaland.', 'Looking for players under €50, no Grealish.'], description='The user wants to get players recommended to him based on a budget.', function_schemas=None, llm=None, score_threshold=None, metadata={}),\n",
       " Route(name='view_or_update_team_points', utterances=['Can I view my current team points?', 'I want to check my team points, please.', 'Show me my team points.', 'What are my current points?', \"I'd like to see my team points.\", 'Please update my team points to 75.', 'Change my team points to 50.', 'Modify my team points to 90.', 'Update my points to 60.', 'Can you show me my points?', 'I need to view my team points.', 'What are my points right now?', \"I'd like to update my points to 80.\", 'Please show my current points.', 'Can you update my team points to 40?', 'I want to check my points.', 'Update my points to 100.', 'Can I see my points total?', 'Please modify my points to 30.', 'I want to view my team points.', 'Show me my points, please.', \"I'd like to update my points to 20.\", 'What are my current team points?', 'Can you change my points to 55?', 'I want to see my points.', 'Update my team points to 85.', 'Please show me my current points.', 'Can I view my points total?', \"I'd like to modify my points to 45.\", 'What are my team points?', 'Please update my points to 70.', 'Can you show my team points?', 'I want to check my current points.', 'Update my team points to 65.', 'Can I see my points?', 'Please modify my points to 10.', 'I want to view my current points.', 'Show me my team points total.', \"I'd like to update my points to 15.\", 'What are my points right now?', 'Can you change my points to 25?', 'I want to see my team points.', 'Update my points to 95.', 'Please show my points.', 'Can I view my team points total?', \"I'd like to modify my points to 35.\", 'What are my current points?', 'Please update my team points to 5.', 'Can you show me my points?', 'I want to check my team points.', 'Update my points to 75.', 'Please modify my points to 80.', 'Can I see my current points?', \"I'd like to view my team points.\"], description='The user wants to know either check the points he has or to update them to a new number.', function_schemas=None, llm=None, score_threshold=None, metadata={}),\n",
       " Route(name='view_players_stats', utterances=['Can you show me the stats for Kane?', 'I want to see the performance stats for Salah.', 'What are the latest stats for Bruno?', 'Please provide the stats for Son.', \"I'd like to know the stats for Haaland.\", 'Show me the player stats for Mount.', 'Can I get the stats for Rashford?', 'What are the current stats for Grealish?', 'Give me the stats for Almiron.', \"I'd like to view the stats for Foden.\", 'Can you tell me the stats for Jota?', 'What are the stats for Maddison?', 'Show me the stats for Toney.', 'Please provide the stats for Dier.', 'I want to see the stats for Chilwell.', 'Can you give me the stats for Ederson?', 'What are the latest stats for Sterling?', \"I'd like to know the stats for Nketiah.\", 'Show me the player stats for Saka.', 'Can I get the stats for Cucurella?', 'What are the current stats for Jesus?', 'Please provide the stats for Bowen.', \"I'd like to view the stats for Kepa.\", 'Can you tell me the stats for Watkins?', 'What are the stats for Pulisic?', 'Show me the stats for Mings.', 'Please provide the stats for Lloris.', 'I want to see the performance stats for Daka.', 'Can you show me the stats for Pereira?', 'What are the latest stats for Coady?', \"I'd like to know the stats for Raphinha.\", 'Show me the player stats for Neto.', 'Can I get the stats for Ake?', 'What are the current stats for Kante?', 'Please provide the stats for Jorginho.', 'I want to see the stats for Zaha.', 'Can you tell me the stats for Isak?', 'What are the stats for Adams?', 'Show me the stats for Soucek.', 'Please provide the stats for Benrahma.', \"I'd like to view the stats for Damsgaard.\", 'Can you give me the stats for Trossard?', 'What are the latest stats for Lavia?', \"I'd like to know the stats for Onana.\", 'Show me the player stats for Raya.', 'Can I get the stats for Kiwior?', 'What are the current stats for Saliba?', 'Please provide the stats for Gabriel.', 'I want to see the performance stats for McGinn.', 'Can you show me the stats for Billing?', 'What are the latest stats for Solanke?', \"I'd like to know the stats for Mitrovic.\", 'Show me the stats for Wilson.', 'Can I get the stats for Eze?', 'What are the current stats for Gallagher?', 'Please provide the stats for Olise.'], description='The user is interested in getting to know information about players and how they are doing based on stats.', function_schemas=None, llm=None, score_threshold=None, metadata={}),\n",
       " Route(name='chit_chat_about_company', utterances=['What inspired the creation of Ball IQ?', 'How did Ball IQ come up with its name?', \"Can you tell me more about Ball IQ's mission?\", 'What makes Ball IQ different from other platforms?', 'How long has Ball IQ been in operation?', 'Who are the founders of Ball IQ?', 'What features does Ball IQ offer to users?', 'Is Ball IQ planning to expand its services?', 'How does Ball IQ gather its football data?', 'What are the future plans for Ball IQ?', 'Can you share any success stories from Ball IQ?', 'How does Ball IQ ensure user satisfaction?', 'What kind of feedback has Ball IQ received?', 'Are there any partnerships that Ball IQ is proud of?', 'How does Ball IQ engage with its community?', 'What are the core values of Ball IQ?', 'Does Ball IQ have a mobile app?', 'How can I contact Ball IQ for support?', 'What are the most popular features of Ball IQ?', 'How does Ball IQ stay updated with football trends?', 'What is the user base like for Ball IQ?', 'Does Ball IQ offer any educational resources?', 'How does Ball IQ handle user privacy?', 'What are the biggest challenges Ball IQ has faced?', \"How can I stay updated on Ball IQ's news?\"], description='The user is interested in knowing more about the company Ball IQ.', function_schemas=None, llm=None, score_threshold=None, metadata={})]"
      ]
     },
     "execution_count": 11,
     "metadata": {},
     "output_type": "execute_result"
    }
   ],
   "source": [
    "routes"
   ]
  },
  {
   "cell_type": "code",
   "execution_count": 12,
   "metadata": {},
   "outputs": [],
   "source": [
    "encoder = HuggingFaceEncoder()\n",
    "hf_rl = RouteLayer(encoder=encoder, routes=routes, aggregation=\"max\") #aggregation = \"mean\", \"max\" or \"sum\". #top_k = 5"
   ]
  },
  {
   "cell_type": "code",
   "execution_count": 13,
   "metadata": {},
   "outputs": [],
   "source": [
    "encoder = OpenAIEncoder(openai_api_key=api_key)\n",
    "oa_rl = RouteLayer(encoder=encoder, routes=routes, aggregation=\"max\") #aggregation = \"mean\", \"max\" or \"sum\" #top_k = 5"
   ]
  },
  {
   "cell_type": "code",
   "execution_count": 14,
   "metadata": {},
   "outputs": [
    {
     "data": {
      "text/plain": [
       "[RouteChoice(name='view_players_stats', function_call=None, similarity_score=0.6633941341212519),\n",
       " RouteChoice(name='check_upcoming_fixtures', function_call=None, similarity_score=0.601522376097664)]"
      ]
     },
     "execution_count": 14,
     "metadata": {},
     "output_type": "execute_result"
    }
   ],
   "source": [
    "hf_rl.retrieve_multiple_routes(\"Can you tell me how Salah has been performing?\")"
   ]
  },
  {
   "cell_type": "code",
   "execution_count": 94,
   "metadata": {},
   "outputs": [
    {
     "data": {
      "text/plain": [
       "[RouteChoice(name='check_upcoming_fixtures', function_call=None, similarity_score=0.6135167211247049)]"
      ]
     },
     "execution_count": 94,
     "metadata": {},
     "output_type": "execute_result"
    }
   ],
   "source": [
    "oa_rl.retrieve_multiple_routes(\"Can you tell me the next games for Vitor ?\")"
   ]
  },
  {
   "cell_type": "code",
   "execution_count": 15,
   "metadata": {},
   "outputs": [
    {
     "name": "stdout",
     "output_type": "stream",
     "text": [
      "Default route thresholds: {'check_upcoming_fixtures': 0.5, 'optimize_lineup': 0.5, 'putting_players_in_starting11': 0.5, 'know_information_about_stats': 0.5, 'transfer_players': 0.5, 'recommend_players': 0.5, 'view_or_update_team_points': 0.5, 'view_players_stats': 0.5, 'chit_chat_about_company': 0.5}\n"
     ]
    }
   ],
   "source": [
    "route_thresholds = hf_rl.get_thresholds()\n",
    "print(\"Default route thresholds:\", route_thresholds)"
   ]
  },
  {
   "cell_type": "code",
   "execution_count": 16,
   "metadata": {},
   "outputs": [
    {
     "name": "stdout",
     "output_type": "stream",
     "text": [
      "Default route thresholds: {'check_upcoming_fixtures': 0.5, 'optimize_lineup': 0.5, 'putting_players_in_starting11': 0.5, 'know_information_about_stats': 0.5, 'transfer_players': 0.5, 'recommend_players': 0.5, 'view_or_update_team_points': 0.5, 'view_players_stats': 0.5, 'chit_chat_about_company': 0.5}\n"
     ]
    }
   ],
   "source": [
    "route_thresholds = oa_rl.get_thresholds()\n",
    "print(\"Default route thresholds:\", route_thresholds)"
   ]
  },
  {
   "cell_type": "code",
   "execution_count": 17,
   "metadata": {},
   "outputs": [
    {
     "data": {
      "application/vnd.jupyter.widget-view+json": {
       "model_id": "50ac0a76a9bb46f5a06d642cc9462947",
       "version_major": 2,
       "version_minor": 0
      },
      "text/plain": [
       "Generating embeddings:   0%|          | 0/1 [00:00<?, ?it/s]"
      ]
     },
     "metadata": {},
     "output_type": "display_data"
    },
    {
     "data": {
      "application/vnd.jupyter.widget-view+json": {
       "model_id": "4474226ff8424bdeaa27c9612a6c096b",
       "version_major": 2,
       "version_minor": 0
      },
      "text/plain": [
       "Training:   0%|          | 0/500 [00:00<?, ?it/s]"
      ]
     },
     "metadata": {},
     "output_type": "display_data"
    }
   ],
   "source": [
    "# Call the fit method\n",
    "hf_rl.fit(X=X_final[\"Message\"].to_list(), y=y_final, max_iter=500)"
   ]
  },
  {
   "cell_type": "markdown",
   "metadata": {},
   "source": [
    "trainning accuracy: 100%"
   ]
  },
  {
   "cell_type": "code",
   "execution_count": 18,
   "metadata": {},
   "outputs": [
    {
     "data": {
      "application/vnd.jupyter.widget-view+json": {
       "model_id": "d174feb99a0c4be9b02ad8e0bd6a6a7c",
       "version_major": 2,
       "version_minor": 0
      },
      "text/plain": [
       "Generating embeddings:   0%|          | 0/1 [00:00<?, ?it/s]"
      ]
     },
     "metadata": {},
     "output_type": "display_data"
    },
    {
     "data": {
      "application/vnd.jupyter.widget-view+json": {
       "model_id": "d3daefd9e0214fe98251db2de4c0764c",
       "version_major": 2,
       "version_minor": 0
      },
      "text/plain": [
       "Training:   0%|          | 0/500 [00:00<?, ?it/s]"
      ]
     },
     "metadata": {},
     "output_type": "display_data"
    }
   ],
   "source": [
    "# Call the fit method\n",
    "oa_rl.fit(X=X_final[\"Message\"].to_list(), y=y_final, max_iter=500)"
   ]
  },
  {
   "cell_type": "markdown",
   "metadata": {},
   "source": [
    "trainning accuracy: 100%"
   ]
  },
  {
   "cell_type": "code",
   "execution_count": 19,
   "metadata": {},
   "outputs": [
    {
     "data": {
      "application/vnd.jupyter.widget-view+json": {
       "model_id": "93412c9fc06446a7a2021a9b70c3de30",
       "version_major": 2,
       "version_minor": 0
      },
      "text/plain": [
       "Generating embeddings:   0%|          | 0/1 [00:00<?, ?it/s]"
      ]
     },
     "metadata": {},
     "output_type": "display_data"
    },
    {
     "name": "stdout",
     "output_type": "stream",
     "text": [
      "Accuracy: 80.00%\n"
     ]
    }
   ],
   "source": [
    "accuracy = hf_rl.evaluate(X=X_test[\"Message\"].to_list(), y=y_test)\n",
    "print(f\"Accuracy: {accuracy*100:.2f}%\")"
   ]
  },
  {
   "cell_type": "code",
   "execution_count": 20,
   "metadata": {},
   "outputs": [
    {
     "data": {
      "application/vnd.jupyter.widget-view+json": {
       "model_id": "6670c9d6827444edac54eddca2819b61",
       "version_major": 2,
       "version_minor": 0
      },
      "text/plain": [
       "Generating embeddings:   0%|          | 0/1 [00:00<?, ?it/s]"
      ]
     },
     "metadata": {},
     "output_type": "display_data"
    },
    {
     "name": "stdout",
     "output_type": "stream",
     "text": [
      "Accuracy: 80.00%\n"
     ]
    }
   ],
   "source": [
    "accuracy = oa_rl.evaluate(X=X_test[\"Message\"].to_list(), y=y_test)\n",
    "print(f\"Accuracy: {accuracy*100:.2f}%\")"
   ]
  },
  {
   "cell_type": "code",
   "execution_count": 21,
   "metadata": {},
   "outputs": [
    {
     "name": "stdout",
     "output_type": "stream",
     "text": [
      "Id: 2\n",
      "Message: Who will Saliba play against in week 24\n",
      "True Route: check_upcoming_fixtures, Predicted Route: view_players_stats\n",
      "\n",
      "Id: 16\n",
      "Message: Please sell Bruno Fernandes and buy Salah\n",
      "True Route: transfer_players, Predicted Route: recommend_players\n",
      "\n",
      "Id: 21\n",
      "Message: Can you tell me about the player Ruben Dias?\n",
      "True Route: view_players_stats, Predicted Route: None\n",
      "\n",
      "Id: 23\n",
      "Message: Tell me how Ndidi has been doing this year\n",
      "True Route: view_players_stats, Predicted Route: None\n",
      "\n",
      "Id: 24\n",
      "Message: What can you tell me about this company?\n",
      "True Route: chit_chat_about_company, Predicted Route: None\n",
      "\n",
      "Id: 26\n",
      "Message: Can you tell me more about the company\n",
      "True Route: chit_chat_about_company, Predicted Route: None\n",
      "\n"
     ]
    }
   ],
   "source": [
    "for (index, row), label in zip(X_test.iterrows(), y_test):\n",
    "    message = row[\"Message\"]\n",
    "    prediction = hf_rl(message)\n",
    "\n",
    "    if prediction.name == label:\n",
    "        continue\n",
    "    else:\n",
    "        print(f\"Id: {index}\")\n",
    "        print(f\"Message: {message}\")\n",
    "        print(f\"True Route: {label}, Predicted Route: {prediction.name}\")\n",
    "        print()"
   ]
  },
  {
   "cell_type": "code",
   "execution_count": 22,
   "metadata": {},
   "outputs": [
    {
     "data": {
      "text/plain": [
       "[RouteChoice(name='check_upcoming_fixtures', function_call=None, similarity_score=0.6911148696510074),\n",
       " RouteChoice(name='putting_players_in_starting11', function_call=None, similarity_score=0.5579745641818218)]"
      ]
     },
     "execution_count": 22,
     "metadata": {},
     "output_type": "execute_result"
    }
   ],
   "source": [
    "hf_rl.retrieve_multiple_routes(\" Who will Raheem Sterling play in week 3?\")"
   ]
  },
  {
   "cell_type": "code",
   "execution_count": 23,
   "metadata": {},
   "outputs": [
    {
     "name": "stdout",
     "output_type": "stream",
     "text": [
      "Default route thresholds: {'check_upcoming_fixtures': 0.5, 'optimize_lineup': 0.5, 'putting_players_in_starting11': 0.5, 'know_information_about_stats': 0.5, 'transfer_players': 0.5, 'recommend_players': 0.5, 'view_or_update_team_points': 0.5, 'view_players_stats': 0.5, 'chit_chat_about_company': 0.5}\n"
     ]
    }
   ],
   "source": [
    "route_thresholds = hf_rl.get_thresholds()\n",
    "print(\"Default route thresholds:\", route_thresholds)"
   ]
  },
  {
   "cell_type": "code",
   "execution_count": 24,
   "metadata": {},
   "outputs": [
    {
     "name": "stderr",
     "output_type": "stream",
     "text": [
      "\u001b[32m2024-12-24 19:50:19 INFO semantic_router.utils.logger Saving route config to layer.json\u001b[0m\n"
     ]
    }
   ],
   "source": [
    "hf_rl.to_json(\"layer.json\")"
   ]
  },
  {
   "cell_type": "code",
   "execution_count": null,
   "metadata": {},
   "outputs": [],
   "source": []
  }
 ],
 "metadata": {
  "kernelspec": {
   "display_name": "capstone_project",
   "language": "python",
   "name": "python3"
  },
  "language_info": {
   "codemirror_mode": {
    "name": "ipython",
    "version": 3
   },
   "file_extension": ".py",
   "mimetype": "text/x-python",
   "name": "python",
   "nbconvert_exporter": "python",
   "pygments_lexer": "ipython3",
   "version": "3.12.7"
  }
 },
 "nbformat": 4,
 "nbformat_minor": 2
}
